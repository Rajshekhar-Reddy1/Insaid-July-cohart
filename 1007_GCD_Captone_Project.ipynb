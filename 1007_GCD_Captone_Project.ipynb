{
  "cells": [
    {
      "cell_type": "markdown",
      "metadata": {
        "id": "view-in-github",
        "colab_type": "text"
      },
      "source": [
        "<a href=\"https://colab.research.google.com/github/Rajshekhar-Reddy1/Insaid-July-cohart/blob/main/1007_GCD_Captone_Project.ipynb\" target=\"_parent\"><img src=\"https://colab.research.google.com/assets/colab-badge.svg\" alt=\"Open In Colab\"/></a>"
      ]
    },
    {
      "cell_type": "markdown",
      "id": "b48c3e9f-54ce-4606-bc65-90daa4ea52f1",
      "metadata": {
        "id": "b48c3e9f-54ce-4606-bc65-90daa4ea52f1"
      },
      "source": [
        "><img src=\"https://github.com/insaid2018/Term-1/blob/master/Images/INSAID_Full%20Logo.png?raw=true\" width=\"240\" height=\"100\" /></center>"
      ]
    },
    {
      "cell_type": "markdown",
      "id": "a61c129e-6073-446a-93ae-95bb54e8f6e7",
      "metadata": {
        "id": "a61c129e-6073-446a-93ae-95bb54e8f6e7"
      },
      "source": [
        "<center><h2>\"Group 1007\" :Employee Attrition Predictor</h2></center><br>\n",
        " </h3></center>             \n",
        "<img src=\"https://projects.insaid.co/capstone2/hr.png\" align='left' width=\"700\" height=\"100\"><br/>"
      ]
    },
    {
      "cell_type": "markdown",
      "id": "a50e5a84-a46b-472f-8d84-f3b3a56b2ec4",
      "metadata": {
        "id": "a50e5a84-a46b-472f-8d84-f3b3a56b2ec4"
      },
      "source": [
        "---\n",
        "# **Table of Contents**\n",
        "---\n",
        "\n",
        "**1.** [**Introduction**](#Section1)<br>\n",
        "**2.** [**Problem Statement**](#Section2)<br>\n",
        "**3.** [**Installing & Importing Libraries**](#Section3)<br>\n",
        "**4.** [**Data Acquisition & Description**](#Section4)<br>\n",
        "**5.** [**Data Pre-processing & Cleaning**](#Section5)<br>\n",
        "  - **5.1** [**Handling of Categorical Data**](#Section51)\n",
        "  - **5.2** [**Handling of Continous Data**](#Section52)\n",
        "**6.** [**Exploratory Data Analysis**](#Section6)<br>\n",
        "**7.** [**Feature Engineering**](#Section7)<br>\n",
        "  - **7.1** [**Selected Feature Engineered Data**](#Section71) \n",
        "**8.** [**Model Building**](#Section8)<br>\n",
        "**9.** [**Model Evaluation & Model Tuning**](#Section9)<br>\n",
        "**10.** [**Finalize the model**](#Section10)<br>\n",
        "**11.** [**Predict the Unseen Future**](#Section11)<br>"
      ]
    },
    {
      "cell_type": "markdown",
      "id": "e80b7937-b4bf-4197-bb57-2585b9bf1915",
      "metadata": {
        "id": "e80b7937-b4bf-4197-bb57-2585b9bf1915"
      },
      "source": [
        "---\n",
        "<a name = Section1></a>\n",
        "# **1. Introduction**\n",
        "\n",
        "- Your client for this project is the HR Department at a software company.\n",
        "\n",
        "- They want to try a new initiative to retain employees.\n",
        "- The idea is to use data to predict whether an employee is likely to leave.\n",
        "- Once these employees are identified, HR can be more proactive in reaching out to them before it's too late.\n",
        "- They only want to deal with the data that is related to permanent employees.\n",
        "#### Current Practice\n",
        "Once an employee leaves, he or she is taken an interview with the name “exit interview” and shares reasons for leaving. The HR Department then tries and learns insights from the interview and makes changes accordingly.\n",
        "\n",
        "- This suffers from the following problems:\n",
        "\n",
        "- This approach is that it's too haphazard. The quality of insight gained from an interview depends heavily on the skill of the interviewer.\n",
        "- The second problem is these insights can't be aggregated and interlaced across all employees who have left.\n",
        "- The third is that it is too late by the time the proposed policy changes take effect.\n",
        "\n",
        "The **HR department** has hired you as data science consultants. They want to supplement their exit interviews with a more proactive approach."
      ]
    },
    {
      "cell_type": "markdown",
      "id": "391ef733-102b-49fc-b7cc-eee5a0e66c4c",
      "metadata": {
        "id": "391ef733-102b-49fc-b7cc-eee5a0e66c4c"
      },
      "source": [
        "---\n",
        "\n",
        "<a name = Section2></a>\n",
        "# **2. Problem Statement**"
      ]
    },
    {
      "cell_type": "markdown",
      "id": "63b26c12-4607-4901-8b3c-3e156a69e707",
      "metadata": {
        "id": "63b26c12-4607-4901-8b3c-3e156a69e707"
      },
      "source": [
        "**Employee Attrition Prediction**.\n",
        "\n",
        "HR Department wants solution for determining early prediction of employees that are at risk of leaving organization.\n",
        "\n",
        "Based on the early prediction,HR department can check proactively if employee can be retained after working out on the concerns of employees before employee resigns. \n"
      ]
    },
    {
      "cell_type": "markdown",
      "id": "672d00fb-39fd-4374-ae1e-86b9a38e8061",
      "metadata": {
        "id": "672d00fb-39fd-4374-ae1e-86b9a38e8061"
      },
      "source": [
        "---\n",
        "<a name = Section3></a>\n",
        "# **3. Installing & Importing Libraries**"
      ]
    },
    {
      "cell_type": "code",
      "execution_count": null,
      "id": "8eb4b6c6-713c-4239-a413-9300a23d55b6",
      "metadata": {
        "id": "8eb4b6c6-713c-4239-a413-9300a23d55b6",
        "outputId": "dc7ddbcc-b29c-48a4-d514-48a4ef7bf59c"
      },
      "outputs": [
        {
          "name": "stdout",
          "output_type": "stream",
          "text": [
            "Requirement already satisfied: ipython-sql in c:\\users\\91810\\anaconda3\\lib\\site-packages (0.4.0)\n",
            "Requirement already satisfied: six in c:\\users\\91810\\anaconda3\\lib\\site-packages (from ipython-sql) (1.15.0)\n",
            "Requirement already satisfied: prettytable<1 in c:\\users\\91810\\anaconda3\\lib\\site-packages (from ipython-sql) (0.7.2)\n",
            "Requirement already satisfied: sqlalchemy>=0.6.7 in c:\\users\\91810\\anaconda3\\lib\\site-packages (from ipython-sql) (1.4.7)\n",
            "Requirement already satisfied: sqlparse in c:\\users\\91810\\anaconda3\\lib\\site-packages (from ipython-sql) (0.4.2)\n",
            "Requirement already satisfied: ipython-genutils>=0.1.0 in c:\\users\\91810\\anaconda3\\lib\\site-packages (from ipython-sql) (0.2.0)\n",
            "Requirement already satisfied: ipython>=1.0 in c:\\users\\91810\\anaconda3\\lib\\site-packages (from ipython-sql) (7.22.0)\n",
            "Requirement already satisfied: pickleshare in c:\\users\\91810\\anaconda3\\lib\\site-packages (from ipython>=1.0->ipython-sql) (0.7.5)\n",
            "Requirement already satisfied: decorator in c:\\users\\91810\\anaconda3\\lib\\site-packages (from ipython>=1.0->ipython-sql) (5.0.6)\n",
            "Requirement already satisfied: backcall in c:\\users\\91810\\anaconda3\\lib\\site-packages (from ipython>=1.0->ipython-sql) (0.2.0)\n",
            "Requirement already satisfied: pygments in c:\\users\\91810\\anaconda3\\lib\\site-packages (from ipython>=1.0->ipython-sql) (2.8.1)\n",
            "Requirement already satisfied: traitlets>=4.2 in c:\\users\\91810\\anaconda3\\lib\\site-packages (from ipython>=1.0->ipython-sql) (5.0.5)\n",
            "Requirement already satisfied: colorama in c:\\users\\91810\\anaconda3\\lib\\site-packages (from ipython>=1.0->ipython-sql) (0.4.4)\n",
            "Requirement already satisfied: jedi>=0.16 in c:\\users\\91810\\anaconda3\\lib\\site-packages (from ipython>=1.0->ipython-sql) (0.17.2)\n",
            "Requirement already satisfied: prompt-toolkit!=3.0.0,!=3.0.1,<3.1.0,>=2.0.0 in c:\\users\\91810\\anaconda3\\lib\\site-packages (from ipython>=1.0->ipython-sql) (3.0.17)\n",
            "Requirement already satisfied: setuptools>=18.5 in c:\\users\\91810\\anaconda3\\lib\\site-packages (from ipython>=1.0->ipython-sql) (52.0.0.post20210125)\n",
            "Requirement already satisfied: parso<0.8.0,>=0.7.0 in c:\\users\\91810\\anaconda3\\lib\\site-packages (from jedi>=0.16->ipython>=1.0->ipython-sql) (0.7.0)\n",
            "Requirement already satisfied: wcwidth in c:\\users\\91810\\anaconda3\\lib\\site-packages (from prompt-toolkit!=3.0.0,!=3.0.1,<3.1.0,>=2.0.0->ipython>=1.0->ipython-sql) (0.2.5)\n",
            "Requirement already satisfied: greenlet!=0.4.17 in c:\\users\\91810\\anaconda3\\lib\\site-packages (from sqlalchemy>=0.6.7->ipython-sql) (1.0.0)\n",
            "Requirement already satisfied: mysqlclient in c:\\users\\91810\\anaconda3\\lib\\site-packages (2.1.0)\n",
            "Requirement already satisfied: pymysql in c:\\users\\91810\\anaconda3\\lib\\site-packages (1.0.2)\n"
          ]
        }
      ],
      "source": [
        "!pip install ipython-sql\n",
        "!pip install mysqlclient\n",
        "# In the python cmd, install packages:\n",
        "!pip3 install pymysql"
      ]
    },
    {
      "cell_type": "code",
      "execution_count": null,
      "id": "65179f72-e162-4645-bcb3-c2be00c8c63c",
      "metadata": {
        "id": "65179f72-e162-4645-bcb3-c2be00c8c63c"
      },
      "outputs": [],
      "source": [
        "#Import Lib\n",
        "import pandas as pd\n",
        "import warnings\n",
        "from pandas_profiling import ProfileReport  \n",
        "warnings.filterwarnings('ignore')\n",
        "import numpy as np\n",
        "from matplotlib import pyplot as plt\n",
        "import seaborn as sns\n",
        "import warnings\n",
        "warnings.filterwarnings('ignore')\n",
        "from sklearn.preprocessing import StandardScaler,PowerTransformer\n",
        "\n",
        "import os\n",
        "from scipy import stats\n",
        "plt.rc('font',size=14)\n",
        "sns.set(style='white')\n",
        "sns.set(style='darkgrid',color_codes=True)\n",
        "from scipy.stats import zscore\n",
        "from sklearn.model_selection import train_test_split, cross_val_score\n",
        "%matplotlib inline\n",
        "\n",
        "from sklearn.tree import DecisionTreeClassifier\n",
        "from sklearn.tree import export_graphviz\n",
        "from sklearn.metrics import confusion_matrix,classification_report\n",
        "from sklearn.metrics import plot_confusion_matrix\n",
        "import pydotplus\n",
        "from IPython.display import Image\n",
        "from sklearn.model_selection import GridSearchCV   \n",
        "\n",
        "from sklearn.neighbors import KNeighborsClassifier\n",
        "from sklearn.linear_model import LogisticRegression\n",
        "from sklearn.ensemble import RandomForestClassifier\n",
        "from sklearn.naive_bayes import GaussianNB\n",
        "from sklearn.metrics import accuracy_score\n",
        "from sklearn.model_selection import KFold\n",
        "from sklearn.model_selection import cross_validate"
      ]
    },
    {
      "cell_type": "code",
      "execution_count": null,
      "id": "64ee490e-5034-451e-bf89-3a45d11ba50b",
      "metadata": {
        "id": "64ee490e-5034-451e-bf89-3a45d11ba50b"
      },
      "outputs": [],
      "source": [
        "import pymysql\n",
        "import pandas as pd"
      ]
    },
    {
      "cell_type": "code",
      "execution_count": null,
      "id": "27ab0623-486f-4558-bb68-4bc2086cd095",
      "metadata": {
        "id": "27ab0623-486f-4558-bb68-4bc2086cd095"
      },
      "outputs": [],
      "source": [
        "import xgboost as xgb\n",
        "xgb.set_config(verbosity=0)"
      ]
    },
    {
      "cell_type": "code",
      "execution_count": null,
      "id": "d675ce98-0dcd-4e20-ab8c-ef754a40c319",
      "metadata": {
        "id": "d675ce98-0dcd-4e20-ab8c-ef754a40c319"
      },
      "outputs": [],
      "source": [
        "from sklearn.ensemble import GradientBoostingClassifier"
      ]
    },
    {
      "cell_type": "code",
      "execution_count": null,
      "id": "7b4a751b-0838-43f2-b967-c592078a237f",
      "metadata": {
        "id": "7b4a751b-0838-43f2-b967-c592078a237f"
      },
      "outputs": [],
      "source": [
        "from sklearn.metrics import accuracy_score,roc_auc_score,SCORERS"
      ]
    },
    {
      "cell_type": "markdown",
      "id": "1d3975af-1e53-403f-9496-cdf11bec91e2",
      "metadata": {
        "id": "1d3975af-1e53-403f-9496-cdf11bec91e2"
      },
      "source": [
        "---\n",
        "<a name = Section4></a>\n",
        "# 4. Data Acquisition & Description\n"
      ]
    },
    {
      "cell_type": "markdown",
      "id": "baac208d-5352-45d4-be85-95d903600af3",
      "metadata": {
        "id": "baac208d-5352-45d4-be85-95d903600af3"
      },
      "source": [
        "### Description of the Dataset\n",
        "\n",
        "The Business Intelligence Analysts of the Company provided you three datasets that contain information about past employees and their status (still employed or already left).\n",
        "\n",
        "1. # department_data\n",
        "This dataset contains information about each department. The schema of the dataset is as follows:\n",
        "\n",
        "- dept_id – Unique Department Code \n",
        "- dept_name – Name of the Department \n",
        "- dept_head – Name of the Head of the Department\n",
        "\n",
        "2. # employee_details_data\n",
        "This dataset consists of Employee ID, their Age, Gender and Marital Status. The schema of this dataset is as follows:\n",
        "\n",
        "- employee_id – Unique ID Number for each employee\n",
        "- age – Age of the employee\n",
        "- gender – Gender of the employee\n",
        "- marital_status – Marital Status of the employee\n",
        "\n",
        "3. # employee_data\n",
        "This dataset consists of each employee’s Administrative Information, Workload Information, Mutual Evaluation Information and Status.\n",
        "\n",
        "Target variable\n",
        "\n",
        "- status – Current employment status (Employed / Left)\n",
        "- Administrative information\n",
        "\n",
        "- department – Department to which the employees belong(ed) to\n",
        "- salary – Salary level with respect to rest of their department\n",
        "- tenure – Number of years at the company\n",
        "- recently_promoted – Was the employee promoted in the last 3 years?\n",
        "- employee_id – Unique ID Number for each employee\n",
        "\n",
        "Workload information\n",
        "\n",
        "- n_projects – Number of projects employee has worked on\n",
        "- avg_monthly_hrs – Average number of hours worked per month\n",
        "- Mutual evaluation information\n",
        "\n",
        "- satisfaction – Score for employee’s satisfaction with the - company (higher is better)\n",
        "- last_evaluation – Score for most recent evaluation of employee (higher is better)\n",
        "- filed_complaint – Has the employee filed a formal complaint in the last 3 years?"
      ]
    },
    {
      "cell_type": "code",
      "execution_count": null,
      "id": "c9b2b2ea-6813-4349-ae1b-c67cb7e7f3a5",
      "metadata": {
        "id": "c9b2b2ea-6813-4349-ae1b-c67cb7e7f3a5"
      },
      "outputs": [],
      "source": [
        "#Establish Connection with Database.\n",
        "conn=pymysql.connect(host='cpanel.insaid.co',port=int(3306),user='student',passwd='student',db='Capstone2')\n"
      ]
    },
    {
      "cell_type": "code",
      "execution_count": null,
      "id": "7018c22e-7690-4dca-b09a-9479d61bf382",
      "metadata": {
        "id": "7018c22e-7690-4dca-b09a-9479d61bf382",
        "outputId": "66275cab-b9bf-4cea-8645-75e1501f048f"
      },
      "outputs": [
        {
          "data": {
            "text/html": [
              "<div>\n",
              "<style scoped>\n",
              "    .dataframe tbody tr th:only-of-type {\n",
              "        vertical-align: middle;\n",
              "    }\n",
              "\n",
              "    .dataframe tbody tr th {\n",
              "        vertical-align: top;\n",
              "    }\n",
              "\n",
              "    .dataframe thead th {\n",
              "        text-align: right;\n",
              "    }\n",
              "</style>\n",
              "<table border=\"1\" class=\"dataframe\">\n",
              "  <thead>\n",
              "    <tr style=\"text-align: right;\">\n",
              "      <th></th>\n",
              "      <th>dept_id</th>\n",
              "      <th>dept_name</th>\n",
              "      <th>dept_head</th>\n",
              "    </tr>\n",
              "  </thead>\n",
              "  <tbody>\n",
              "    <tr>\n",
              "      <th>0</th>\n",
              "      <td>D00-IT</td>\n",
              "      <td>IT</td>\n",
              "      <td>Henry Adey</td>\n",
              "    </tr>\n",
              "    <tr>\n",
              "      <th>1</th>\n",
              "      <td>D00-SS</td>\n",
              "      <td>Sales</td>\n",
              "      <td>Edward J Bayley</td>\n",
              "    </tr>\n",
              "    <tr>\n",
              "      <th>2</th>\n",
              "      <td>D00-TP</td>\n",
              "      <td>Temp</td>\n",
              "      <td>Micheal Zachrey</td>\n",
              "    </tr>\n",
              "    <tr>\n",
              "      <th>3</th>\n",
              "      <td>D00-ENG</td>\n",
              "      <td>Engineering</td>\n",
              "      <td>Sushant Raghunathan K</td>\n",
              "    </tr>\n",
              "    <tr>\n",
              "      <th>4</th>\n",
              "      <td>D00-SP</td>\n",
              "      <td>Support</td>\n",
              "      <td>Amelia Westray</td>\n",
              "    </tr>\n",
              "  </tbody>\n",
              "</table>\n",
              "</div>"
            ],
            "text/plain": [
              "   dept_id    dept_name              dept_head\n",
              "0   D00-IT           IT             Henry Adey\n",
              "1   D00-SS        Sales        Edward J Bayley\n",
              "2   D00-TP         Temp        Micheal Zachrey\n",
              "3  D00-ENG  Engineering  Sushant Raghunathan K\n",
              "4   D00-SP      Support         Amelia Westray"
            ]
          },
          "execution_count": 18,
          "metadata": {},
          "output_type": "execute_result"
        }
      ],
      "source": [
        "#Read Department Data\n",
        "df_department_data = pd.read_sql_query(\"select * from department_data \",conn)\n",
        "df_department_data.head()"
      ]
    },
    {
      "cell_type": "code",
      "execution_count": null,
      "id": "85b073ff-c37d-4163-8e59-ddf326a747aa",
      "metadata": {
        "id": "85b073ff-c37d-4163-8e59-ddf326a747aa",
        "outputId": "4c105f85-c0a1-4715-db14-a6e8c22f946f"
      },
      "outputs": [
        {
          "data": {
            "text/html": [
              "<div>\n",
              "<style scoped>\n",
              "    .dataframe tbody tr th:only-of-type {\n",
              "        vertical-align: middle;\n",
              "    }\n",
              "\n",
              "    .dataframe tbody tr th {\n",
              "        vertical-align: top;\n",
              "    }\n",
              "\n",
              "    .dataframe thead th {\n",
              "        text-align: right;\n",
              "    }\n",
              "</style>\n",
              "<table border=\"1\" class=\"dataframe\">\n",
              "  <thead>\n",
              "    <tr style=\"text-align: right;\">\n",
              "      <th></th>\n",
              "      <th>employee_id</th>\n",
              "      <th>age</th>\n",
              "      <th>gender</th>\n",
              "      <th>marital_status</th>\n",
              "    </tr>\n",
              "  </thead>\n",
              "  <tbody>\n",
              "    <tr>\n",
              "      <th>0</th>\n",
              "      <td>113558</td>\n",
              "      <td>43</td>\n",
              "      <td>Male</td>\n",
              "      <td>Married</td>\n",
              "    </tr>\n",
              "    <tr>\n",
              "      <th>1</th>\n",
              "      <td>112256</td>\n",
              "      <td>24</td>\n",
              "      <td>Female</td>\n",
              "      <td>Unmarried</td>\n",
              "    </tr>\n",
              "    <tr>\n",
              "      <th>2</th>\n",
              "      <td>112586</td>\n",
              "      <td>22</td>\n",
              "      <td>Female</td>\n",
              "      <td>Unmarried</td>\n",
              "    </tr>\n",
              "    <tr>\n",
              "      <th>3</th>\n",
              "      <td>108071</td>\n",
              "      <td>36</td>\n",
              "      <td>Male</td>\n",
              "      <td>Married</td>\n",
              "    </tr>\n",
              "    <tr>\n",
              "      <th>4</th>\n",
              "      <td>116915</td>\n",
              "      <td>38</td>\n",
              "      <td>Male</td>\n",
              "      <td>Married</td>\n",
              "    </tr>\n",
              "  </tbody>\n",
              "</table>\n",
              "</div>"
            ],
            "text/plain": [
              "   employee_id  age  gender marital_status\n",
              "0       113558   43    Male        Married\n",
              "1       112256   24  Female      Unmarried\n",
              "2       112586   22  Female      Unmarried\n",
              "3       108071   36    Male        Married\n",
              "4       116915   38    Male        Married"
            ]
          },
          "execution_count": 19,
          "metadata": {},
          "output_type": "execute_result"
        }
      ],
      "source": [
        "#Read Employee details Data\n",
        "df_emp_details = pd.read_sql_query(\"select * from employee_details_data \",conn)\n",
        "df_emp_details.head()"
      ]
    },
    {
      "cell_type": "code",
      "execution_count": null,
      "id": "7ad25339-1487-45b8-a98a-519cc30dd5ea",
      "metadata": {
        "id": "7ad25339-1487-45b8-a98a-519cc30dd5ea",
        "outputId": "a9b2bae1-36b7-4a86-fa1c-4858cd0df838"
      },
      "outputs": [
        {
          "data": {
            "text/html": [
              "<div>\n",
              "<style scoped>\n",
              "    .dataframe tbody tr th:only-of-type {\n",
              "        vertical-align: middle;\n",
              "    }\n",
              "\n",
              "    .dataframe tbody tr th {\n",
              "        vertical-align: top;\n",
              "    }\n",
              "\n",
              "    .dataframe thead th {\n",
              "        text-align: right;\n",
              "    }\n",
              "</style>\n",
              "<table border=\"1\" class=\"dataframe\">\n",
              "  <thead>\n",
              "    <tr style=\"text-align: right;\">\n",
              "      <th></th>\n",
              "      <th>avg_monthly_hrs</th>\n",
              "      <th>department</th>\n",
              "      <th>filed_complaint</th>\n",
              "      <th>last_evaluation</th>\n",
              "      <th>n_projects</th>\n",
              "      <th>recently_promoted</th>\n",
              "      <th>salary</th>\n",
              "      <th>satisfaction</th>\n",
              "      <th>status</th>\n",
              "      <th>tenure</th>\n",
              "      <th>employee_id</th>\n",
              "    </tr>\n",
              "  </thead>\n",
              "  <tbody>\n",
              "    <tr>\n",
              "      <th>0</th>\n",
              "      <td>246.0</td>\n",
              "      <td>None</td>\n",
              "      <td>NaN</td>\n",
              "      <td>0.866838</td>\n",
              "      <td>6</td>\n",
              "      <td>NaN</td>\n",
              "      <td>medium</td>\n",
              "      <td>0.134415</td>\n",
              "      <td>Left</td>\n",
              "      <td>4.0</td>\n",
              "      <td>124467</td>\n",
              "    </tr>\n",
              "    <tr>\n",
              "      <th>1</th>\n",
              "      <td>134.0</td>\n",
              "      <td>None</td>\n",
              "      <td>NaN</td>\n",
              "      <td>0.555718</td>\n",
              "      <td>2</td>\n",
              "      <td>NaN</td>\n",
              "      <td>low</td>\n",
              "      <td>0.511041</td>\n",
              "      <td>Left</td>\n",
              "      <td>3.0</td>\n",
              "      <td>112210</td>\n",
              "    </tr>\n",
              "    <tr>\n",
              "      <th>2</th>\n",
              "      <td>156.0</td>\n",
              "      <td>D00-SS</td>\n",
              "      <td>1.0</td>\n",
              "      <td>0.474082</td>\n",
              "      <td>2</td>\n",
              "      <td>NaN</td>\n",
              "      <td>medium</td>\n",
              "      <td>0.405101</td>\n",
              "      <td>Left</td>\n",
              "      <td>3.0</td>\n",
              "      <td>126150</td>\n",
              "    </tr>\n",
              "    <tr>\n",
              "      <th>3</th>\n",
              "      <td>256.0</td>\n",
              "      <td>D00-SP</td>\n",
              "      <td>NaN</td>\n",
              "      <td>0.961360</td>\n",
              "      <td>6</td>\n",
              "      <td>NaN</td>\n",
              "      <td>low</td>\n",
              "      <td>0.152974</td>\n",
              "      <td>Left</td>\n",
              "      <td>4.0</td>\n",
              "      <td>125346</td>\n",
              "    </tr>\n",
              "    <tr>\n",
              "      <th>4</th>\n",
              "      <td>146.0</td>\n",
              "      <td>D00-SS</td>\n",
              "      <td>NaN</td>\n",
              "      <td>0.507349</td>\n",
              "      <td>2</td>\n",
              "      <td>NaN</td>\n",
              "      <td>medium</td>\n",
              "      <td>0.434845</td>\n",
              "      <td>Left</td>\n",
              "      <td>3.0</td>\n",
              "      <td>113707</td>\n",
              "    </tr>\n",
              "  </tbody>\n",
              "</table>\n",
              "</div>"
            ],
            "text/plain": [
              "   avg_monthly_hrs department  filed_complaint  last_evaluation  n_projects  \\\n",
              "0            246.0       None              NaN         0.866838           6   \n",
              "1            134.0       None              NaN         0.555718           2   \n",
              "2            156.0     D00-SS              1.0         0.474082           2   \n",
              "3            256.0     D00-SP              NaN         0.961360           6   \n",
              "4            146.0     D00-SS              NaN         0.507349           2   \n",
              "\n",
              "   recently_promoted  salary  satisfaction status  tenure  employee_id  \n",
              "0                NaN  medium      0.134415   Left     4.0       124467  \n",
              "1                NaN     low      0.511041   Left     3.0       112210  \n",
              "2                NaN  medium      0.405101   Left     3.0       126150  \n",
              "3                NaN     low      0.152974   Left     4.0       125346  \n",
              "4                NaN  medium      0.434845   Left     3.0       113707  "
            ]
          },
          "execution_count": 20,
          "metadata": {},
          "output_type": "execute_result"
        }
      ],
      "source": [
        "#Read Employee Status Data\n",
        "df_emp_status = pd.read_sql_query(\"select * from employee_data \",conn)\n",
        "df_emp_status.head()"
      ]
    },
    {
      "cell_type": "code",
      "execution_count": null,
      "id": "2fa6ef0d-290b-4302-89d9-8abe06d1bc95",
      "metadata": {
        "id": "2fa6ef0d-290b-4302-89d9-8abe06d1bc95",
        "outputId": "5e79c4e9-809b-4935-896b-575e78b6514d"
      },
      "outputs": [
        {
          "name": "stdout",
          "output_type": "stream",
          "text": [
            "<class 'pandas.core.frame.DataFrame'>\n",
            "RangeIndex: 14150 entries, 0 to 14149\n",
            "Data columns (total 11 columns):\n",
            " #   Column             Non-Null Count  Dtype  \n",
            "---  ------             --------------  -----  \n",
            " 0   avg_monthly_hrs    14150 non-null  float64\n",
            " 1   department         13443 non-null  object \n",
            " 2   filed_complaint    2046 non-null   float64\n",
            " 3   last_evaluation    12663 non-null  float64\n",
            " 4   n_projects         14150 non-null  int64  \n",
            " 5   recently_promoted  297 non-null    float64\n",
            " 6   salary             14150 non-null  object \n",
            " 7   satisfaction       14000 non-null  float64\n",
            " 8   status             14150 non-null  object \n",
            " 9   tenure             14000 non-null  float64\n",
            " 10  employee_id        14150 non-null  int64  \n",
            "dtypes: float64(6), int64(2), object(3)\n",
            "memory usage: 1.2+ MB\n"
          ]
        }
      ],
      "source": [
        "df_emp_status.info()"
      ]
    },
    {
      "cell_type": "code",
      "execution_count": null,
      "id": "1c4e1479",
      "metadata": {
        "id": "1c4e1479",
        "outputId": "6cbbcca8-1e9f-4ca8-c8e5-a715b975b03e"
      },
      "outputs": [
        {
          "data": {
            "text/html": [
              "<div>\n",
              "<style scoped>\n",
              "    .dataframe tbody tr th:only-of-type {\n",
              "        vertical-align: middle;\n",
              "    }\n",
              "\n",
              "    .dataframe tbody tr th {\n",
              "        vertical-align: top;\n",
              "    }\n",
              "\n",
              "    .dataframe thead th {\n",
              "        text-align: right;\n",
              "    }\n",
              "</style>\n",
              "<table border=\"1\" class=\"dataframe\">\n",
              "  <thead>\n",
              "    <tr style=\"text-align: right;\">\n",
              "      <th></th>\n",
              "      <th>avg_monthly_hrs</th>\n",
              "      <th>filed_complaint</th>\n",
              "      <th>last_evaluation</th>\n",
              "      <th>n_projects</th>\n",
              "      <th>recently_promoted</th>\n",
              "      <th>satisfaction</th>\n",
              "      <th>tenure</th>\n",
              "      <th>employee_id</th>\n",
              "    </tr>\n",
              "  </thead>\n",
              "  <tbody>\n",
              "    <tr>\n",
              "      <th>count</th>\n",
              "      <td>14150.000000</td>\n",
              "      <td>2046.0</td>\n",
              "      <td>12663.000000</td>\n",
              "      <td>14150.000000</td>\n",
              "      <td>297.0</td>\n",
              "      <td>14000.000000</td>\n",
              "      <td>14000.000000</td>\n",
              "      <td>14150.000000</td>\n",
              "    </tr>\n",
              "    <tr>\n",
              "      <th>mean</th>\n",
              "      <td>199.994346</td>\n",
              "      <td>1.0</td>\n",
              "      <td>0.718399</td>\n",
              "      <td>3.778304</td>\n",
              "      <td>1.0</td>\n",
              "      <td>0.621212</td>\n",
              "      <td>3.499357</td>\n",
              "      <td>112080.750247</td>\n",
              "    </tr>\n",
              "    <tr>\n",
              "      <th>std</th>\n",
              "      <td>50.833697</td>\n",
              "      <td>0.0</td>\n",
              "      <td>0.173108</td>\n",
              "      <td>1.250162</td>\n",
              "      <td>0.0</td>\n",
              "      <td>0.250482</td>\n",
              "      <td>1.462584</td>\n",
              "      <td>8748.202856</td>\n",
              "    </tr>\n",
              "    <tr>\n",
              "      <th>min</th>\n",
              "      <td>49.000000</td>\n",
              "      <td>1.0</td>\n",
              "      <td>0.316175</td>\n",
              "      <td>1.000000</td>\n",
              "      <td>1.0</td>\n",
              "      <td>0.040058</td>\n",
              "      <td>2.000000</td>\n",
              "      <td>0.000000</td>\n",
              "    </tr>\n",
              "    <tr>\n",
              "      <th>25%</th>\n",
              "      <td>155.000000</td>\n",
              "      <td>1.0</td>\n",
              "      <td>0.563711</td>\n",
              "      <td>3.000000</td>\n",
              "      <td>1.0</td>\n",
              "      <td>0.450356</td>\n",
              "      <td>3.000000</td>\n",
              "      <td>105772.500000</td>\n",
              "    </tr>\n",
              "    <tr>\n",
              "      <th>50%</th>\n",
              "      <td>199.000000</td>\n",
              "      <td>1.0</td>\n",
              "      <td>0.724731</td>\n",
              "      <td>4.000000</td>\n",
              "      <td>1.0</td>\n",
              "      <td>0.652394</td>\n",
              "      <td>3.000000</td>\n",
              "      <td>111291.500000</td>\n",
              "    </tr>\n",
              "    <tr>\n",
              "      <th>75%</th>\n",
              "      <td>245.000000</td>\n",
              "      <td>1.0</td>\n",
              "      <td>0.871409</td>\n",
              "      <td>5.000000</td>\n",
              "      <td>1.0</td>\n",
              "      <td>0.824925</td>\n",
              "      <td>4.000000</td>\n",
              "      <td>116650.750000</td>\n",
              "    </tr>\n",
              "    <tr>\n",
              "      <th>max</th>\n",
              "      <td>310.000000</td>\n",
              "      <td>1.0</td>\n",
              "      <td>1.000000</td>\n",
              "      <td>7.000000</td>\n",
              "      <td>1.0</td>\n",
              "      <td>1.000000</td>\n",
              "      <td>10.000000</td>\n",
              "      <td>148988.000000</td>\n",
              "    </tr>\n",
              "  </tbody>\n",
              "</table>\n",
              "</div>"
            ],
            "text/plain": [
              "       avg_monthly_hrs  filed_complaint  last_evaluation    n_projects  \\\n",
              "count     14150.000000           2046.0     12663.000000  14150.000000   \n",
              "mean        199.994346              1.0         0.718399      3.778304   \n",
              "std          50.833697              0.0         0.173108      1.250162   \n",
              "min          49.000000              1.0         0.316175      1.000000   \n",
              "25%         155.000000              1.0         0.563711      3.000000   \n",
              "50%         199.000000              1.0         0.724731      4.000000   \n",
              "75%         245.000000              1.0         0.871409      5.000000   \n",
              "max         310.000000              1.0         1.000000      7.000000   \n",
              "\n",
              "       recently_promoted  satisfaction        tenure    employee_id  \n",
              "count              297.0  14000.000000  14000.000000   14150.000000  \n",
              "mean                 1.0      0.621212      3.499357  112080.750247  \n",
              "std                  0.0      0.250482      1.462584    8748.202856  \n",
              "min                  1.0      0.040058      2.000000       0.000000  \n",
              "25%                  1.0      0.450356      3.000000  105772.500000  \n",
              "50%                  1.0      0.652394      3.000000  111291.500000  \n",
              "75%                  1.0      0.824925      4.000000  116650.750000  \n",
              "max                  1.0      1.000000     10.000000  148988.000000  "
            ]
          },
          "execution_count": 22,
          "metadata": {},
          "output_type": "execute_result"
        }
      ],
      "source": [
        "df_emp_status.describe()"
      ]
    },
    {
      "cell_type": "code",
      "execution_count": null,
      "id": "cf335365",
      "metadata": {
        "id": "cf335365",
        "outputId": "00cdb76f-65d0-45fd-ab7f-cf7cda0b2e98"
      },
      "outputs": [
        {
          "data": {
            "text/plain": [
              "avg_monthly_hrs      0.017220\n",
              "filed_complaint      0.000000\n",
              "last_evaluation     -0.065817\n",
              "n_projects           0.315634\n",
              "recently_promoted    0.000000\n",
              "satisfaction        -0.474783\n",
              "tenure               1.858239\n",
              "employee_id          0.462453\n",
              "dtype: float64"
            ]
          },
          "execution_count": 23,
          "metadata": {},
          "output_type": "execute_result"
        }
      ],
      "source": [
        "df_emp_status.skew()"
      ]
    },
    {
      "cell_type": "code",
      "execution_count": null,
      "id": "8211f4c2",
      "metadata": {
        "id": "8211f4c2",
        "outputId": "2390d0e4-572d-4a05-ca99-0c2f7d70fb33"
      },
      "outputs": [
        {
          "data": {
            "text/plain": [
              "employee_id    1.303497\n",
              "age            0.701964\n",
              "dtype: float64"
            ]
          },
          "execution_count": 24,
          "metadata": {},
          "output_type": "execute_result"
        }
      ],
      "source": [
        "df_emp_details.skew()"
      ]
    },
    {
      "cell_type": "code",
      "execution_count": null,
      "id": "c2934473-a91e-4967-9fd7-3f874fe8424f",
      "metadata": {
        "id": "c2934473-a91e-4967-9fd7-3f874fe8424f",
        "outputId": "770962b6-06e8-42d9-fc03-21f910f758ac"
      },
      "outputs": [
        {
          "name": "stdout",
          "output_type": "stream",
          "text": [
            "<class 'pandas.core.frame.DataFrame'>\n",
            "RangeIndex: 14245 entries, 0 to 14244\n",
            "Data columns (total 4 columns):\n",
            " #   Column          Non-Null Count  Dtype \n",
            "---  ------          --------------  ----- \n",
            " 0   employee_id     14245 non-null  int64 \n",
            " 1   age             14245 non-null  int64 \n",
            " 2   gender          14245 non-null  object\n",
            " 3   marital_status  14245 non-null  object\n",
            "dtypes: int64(2), object(2)\n",
            "memory usage: 445.3+ KB\n"
          ]
        }
      ],
      "source": [
        "df_emp_details.info()"
      ]
    },
    {
      "cell_type": "markdown",
      "id": "ea6c28f0-220a-478e-8783-2934f1eff27b",
      "metadata": {
        "id": "ea6c28f0-220a-478e-8783-2934f1eff27b"
      },
      "source": [
        "---\n",
        "<a name = Section5></a>\n",
        "# 5. Data Pre-processing & Cleaning\n"
      ]
    },
    {
      "cell_type": "code",
      "execution_count": null,
      "id": "98b1d94e-bd01-4763-becb-73b9ba74e50c",
      "metadata": {
        "id": "98b1d94e-bd01-4763-becb-73b9ba74e50c",
        "outputId": "349d2609-709b-4b74-d031-2f8c74c7e59f"
      },
      "outputs": [
        {
          "data": {
            "application/vnd.jupyter.widget-view+json": {
              "model_id": "5f204a0de0cf4b549dccd05867189b59",
              "version_major": 2,
              "version_minor": 0
            },
            "text/plain": [
              "Summarize dataset:   0%|          | 0/5 [00:00<?, ?it/s]"
            ]
          },
          "metadata": {},
          "output_type": "display_data"
        },
        {
          "data": {
            "application/vnd.jupyter.widget-view+json": {
              "model_id": "1b056a05e2684a87862da258d88a665e",
              "version_major": 2,
              "version_minor": 0
            },
            "text/plain": [
              "Generate report structure:   0%|          | 0/1 [00:00<?, ?it/s]"
            ]
          },
          "metadata": {},
          "output_type": "display_data"
        },
        {
          "data": {
            "application/vnd.jupyter.widget-view+json": {
              "model_id": "b796dd98bee3458aaab748969b0585d5",
              "version_major": 2,
              "version_minor": 0
            },
            "text/plain": [
              "Render HTML:   0%|          | 0/1 [00:00<?, ?it/s]"
            ]
          },
          "metadata": {},
          "output_type": "display_data"
        },
        {
          "data": {
            "application/vnd.jupyter.widget-view+json": {
              "model_id": "0381060c79b14111980fb46d3dd4c68d",
              "version_major": 2,
              "version_minor": 0
            },
            "text/plain": [
              "Export report to file:   0%|          | 0/1 [00:00<?, ?it/s]"
            ]
          },
          "metadata": {},
          "output_type": "display_data"
        },
        {
          "name": "stdout",
          "output_type": "stream",
          "text": [
            "Accomplished!\n"
          ]
        }
      ],
      "source": [
        "#Lets Apply pre profiling\n",
        "\n",
        "#Pre Profiling\n",
        "profile = ProfileReport(df=df_department_data)\n",
        "profile.to_file(output_file='Pre Profiling Report df_department_data.html')\n",
        "print('Accomplished!')"
      ]
    },
    {
      "cell_type": "code",
      "execution_count": null,
      "id": "3fc425c2-b547-43be-acca-18a72dc59630",
      "metadata": {
        "id": "3fc425c2-b547-43be-acca-18a72dc59630",
        "outputId": "a17e6acf-ec18-4837-f670-f42d92d18535"
      },
      "outputs": [
        {
          "data": {
            "application/vnd.jupyter.widget-view+json": {
              "model_id": "aac5744df67c497d8af03ffdeb57bec8",
              "version_major": 2,
              "version_minor": 0
            },
            "text/plain": [
              "Summarize dataset:   0%|          | 0/5 [00:00<?, ?it/s]"
            ]
          },
          "metadata": {},
          "output_type": "display_data"
        },
        {
          "data": {
            "application/vnd.jupyter.widget-view+json": {
              "model_id": "af996c0e50b84cf7b503af834292740a",
              "version_major": 2,
              "version_minor": 0
            },
            "text/plain": [
              "Generate report structure:   0%|          | 0/1 [00:00<?, ?it/s]"
            ]
          },
          "metadata": {},
          "output_type": "display_data"
        },
        {
          "data": {
            "application/vnd.jupyter.widget-view+json": {
              "model_id": "dffdcb90976c4b139e2da52b11557ee6",
              "version_major": 2,
              "version_minor": 0
            },
            "text/plain": [
              "Render HTML:   0%|          | 0/1 [00:00<?, ?it/s]"
            ]
          },
          "metadata": {},
          "output_type": "display_data"
        },
        {
          "data": {
            "application/vnd.jupyter.widget-view+json": {
              "model_id": "a6fc1c9c4218484c920e707fafcafb8b",
              "version_major": 2,
              "version_minor": 0
            },
            "text/plain": [
              "Export report to file:   0%|          | 0/1 [00:00<?, ?it/s]"
            ]
          },
          "metadata": {},
          "output_type": "display_data"
        },
        {
          "name": "stdout",
          "output_type": "stream",
          "text": [
            "Accomplished!\n"
          ]
        }
      ],
      "source": [
        "#Lets Apply pre profiling\n",
        "\n",
        "#Profiling\n",
        "profile = ProfileReport(df=df_emp_details)\n",
        "profile.to_file(output_file='Pre Profiling Report df_emp_details.html')\n",
        "print('Accomplished!')\n"
      ]
    },
    {
      "cell_type": "code",
      "execution_count": null,
      "id": "91578c62-e1fe-42ae-9653-f52a2f3513ad",
      "metadata": {
        "id": "91578c62-e1fe-42ae-9653-f52a2f3513ad",
        "outputId": "c866ab5d-8ebb-44e5-959f-e9baa7fb8702"
      },
      "outputs": [
        {
          "data": {
            "application/vnd.jupyter.widget-view+json": {
              "model_id": "3281bec62a484c01be3feed860901bde",
              "version_major": 2,
              "version_minor": 0
            },
            "text/plain": [
              "Summarize dataset:   0%|          | 0/5 [00:00<?, ?it/s]"
            ]
          },
          "metadata": {},
          "output_type": "display_data"
        },
        {
          "data": {
            "application/vnd.jupyter.widget-view+json": {
              "model_id": "798d88d834854d9088cd775f299b39b2",
              "version_major": 2,
              "version_minor": 0
            },
            "text/plain": [
              "Generate report structure:   0%|          | 0/1 [00:00<?, ?it/s]"
            ]
          },
          "metadata": {},
          "output_type": "display_data"
        },
        {
          "data": {
            "application/vnd.jupyter.widget-view+json": {
              "model_id": "0a6bb5c0584649d48136c6c08e058aab",
              "version_major": 2,
              "version_minor": 0
            },
            "text/plain": [
              "Render HTML:   0%|          | 0/1 [00:00<?, ?it/s]"
            ]
          },
          "metadata": {},
          "output_type": "display_data"
        },
        {
          "data": {
            "application/vnd.jupyter.widget-view+json": {
              "model_id": "4d5b1e32455a49a7aa502c38a15e5319",
              "version_major": 2,
              "version_minor": 0
            },
            "text/plain": [
              "Export report to file:   0%|          | 0/1 [00:00<?, ?it/s]"
            ]
          },
          "metadata": {},
          "output_type": "display_data"
        },
        {
          "name": "stdout",
          "output_type": "stream",
          "text": [
            "Accomplished!\n"
          ]
        }
      ],
      "source": [
        "#Profiling\n",
        "profile = ProfileReport(df=df_emp_status)\n",
        "profile.to_file(output_file='Pre Profiling Report df_emp_status.html')\n",
        "print('Accomplished!')"
      ]
    },
    {
      "cell_type": "markdown",
      "id": "a8a91d57-ab84-487d-af90-ee130c28e69d",
      "metadata": {
        "id": "a8a91d57-ab84-487d-af90-ee130c28e69d"
      },
      "source": [
        "**Observations from Pre Processing:**<br>\n",
        "**Missing Values:**<br>\n",
        "Department has 707 missing value\"\t\t<br>\n",
        "Filed_Complaint has 12104 missing data\"\t\t<br>\n",
        "Last Evaluation has 1487 missing data\"\t\t<br>\n",
        "Recently Promoted has 13853 missing data\"\t\t<br>\n",
        "Satisfaction has 150 missing data\t\t<br>\n",
        "Tenure has 150 missing data\t<br><br>\n",
        "\n",
        " **Other Observations**\t<br>\n",
        "Department Data (DD) set has no relation with other two data sets as Department ID is already existing in employee dataset\t\t<br>\n",
        "3 data frames are avilable , department data can be ignored as Department ID already exists in employee status<br>\n",
        "Some Employee ID in  Employee Data is mentioned as 0.<br>\n",
        "NAN Values exists\t<br>\n",
        "\t\n",
        "\t\t\n",
        "**Continous Features**<br>\n",
        "Age<br>\n",
        "avg_monthly_hrs<br>\n",
        "last_evaluation<br>\n",
        "n_projects<br>\n",
        "satisfaction<br>\n",
        "tenure<br>\n",
        "Some of the continous data is slightly skewed and is not normally distributed\"\t\t<br>\n",
        "\t\t\n",
        "\t\t\n",
        "**Categorical Data:**<br>\n",
        "gender :2 categories<br>\n",
        "marital_status :2 categories<br>\n",
        "department :11 categories : Same category has different names.<br>\n",
        "filed_complaint:2 categories<br>\n",
        "recently_promoted:2 categories<br>\n",
        "Salary:3 categories\t\t<br>\n",
        "Some of the Categorical Data has Dtype as Float\t\t<br>"
      ]
    },
    {
      "cell_type": "code",
      "execution_count": null,
      "id": "5e8ad6bf-b0e4-418a-b8e7-a6e7da722318",
      "metadata": {
        "id": "5e8ad6bf-b0e4-418a-b8e7-a6e7da722318",
        "outputId": "676f9189-6392-4a79-e8c6-d46bf106eb80"
      },
      "outputs": [
        {
          "data": {
            "text/plain": [
              "avg_monthly_hrs         0\n",
              "department            707\n",
              "filed_complaint         0\n",
              "last_evaluation      1487\n",
              "n_projects              0\n",
              "recently_promoted       0\n",
              "salary                  0\n",
              "satisfaction          150\n",
              "status                  0\n",
              "tenure                150\n",
              "employee_id             0\n",
              "dtype: int64"
            ]
          },
          "execution_count": 37,
          "metadata": {},
          "output_type": "execute_result"
        }
      ],
      "source": [
        "df_emp_status.isnull().sum()"
      ]
    },
    {
      "cell_type": "markdown",
      "id": "059fe3ec-a183-4ade-b992-54535b3ddcc4",
      "metadata": {
        "id": "059fe3ec-a183-4ade-b992-54535b3ddcc4"
      },
      "source": [
        "---\n",
        "<a name = Section51></a>\n",
        "# 5.1. Handling of Categorical Data\n"
      ]
    },
    {
      "cell_type": "code",
      "execution_count": null,
      "id": "9c16abd4-0ea4-4f09-b7cf-9bd154345d98",
      "metadata": {
        "id": "9c16abd4-0ea4-4f09-b7cf-9bd154345d98",
        "outputId": "9e153a2c-4dd8-463a-fcaf-4b4372740b15"
      },
      "outputs": [
        {
          "name": "stdout",
          "output_type": "stream",
          "text": [
            "[None 'D00-SS' 'D00-SP' 'D00-MT' 'D00-PD' 'D00-IT' 'D00-AD' 'D00-MN'\n",
            " 'D00-ENG' 'D00-PR' 'D00-TP' 'D00-FN' '-IT']\n"
          ]
        }
      ],
      "source": [
        "df_emp_status['filed_complaint'].fillna(value=0.0, inplace=True)\n",
        "df_emp_status['recently_promoted'].fillna(value=0.0, inplace=True)\n",
        "df_emp_status['filed_complaint'] = df_emp_status['filed_complaint'].astype(str)\n",
        "df_emp_status['recently_promoted'] = df_emp_status['recently_promoted'].astype(str)\n",
        "#Deparment\n",
        "print(df_emp_status['department'].unique())\n",
        "#Replace\n",
        "df_emp_status.loc[df_emp_status[\"department\"] == \"-IT\", \"department\"] = 'D00-IT'\n",
        "# Treat missing values for Cat data\n",
        "df_emp_status['department'] = df_emp_status['department'].fillna(value=df_emp_status['department'].mode()[0])"
      ]
    },
    {
      "cell_type": "code",
      "execution_count": null,
      "id": "be1a5f8c-5085-416e-a50f-078b51bed8c0",
      "metadata": {
        "id": "be1a5f8c-5085-416e-a50f-078b51bed8c0"
      },
      "outputs": [],
      "source": [
        "#Target Variable\n",
        "df_emp_status.loc[df_emp_status[\"status\"] == \"Employed\", \"status\"] = 0\n",
        "df_emp_status.loc[df_emp_status[\"status\"] == \"Left\", \"status\"] = 1"
      ]
    },
    {
      "cell_type": "markdown",
      "id": "5f89eb4f-b6ec-4179-b800-9e0cd30b0b7c",
      "metadata": {
        "id": "5f89eb4f-b6ec-4179-b800-9e0cd30b0b7c"
      },
      "source": [
        "---\n",
        "<a name = Section52></a>\n",
        "# 5.2. Handling of Continous Data\n"
      ]
    },
    {
      "cell_type": "code",
      "execution_count": null,
      "id": "24a97f27",
      "metadata": {
        "scrolled": true,
        "id": "24a97f27",
        "outputId": "c5727fab-c202-49ef-f931-6640213202d2"
      },
      "outputs": [
        {
          "data": {
            "text/plain": [
              "avg_monthly_hrs          49.0\n",
              "department             D00-AD\n",
              "filed_complaint           0.0\n",
              "last_evaluation      0.316175\n",
              "n_projects                  1\n",
              "recently_promoted         0.0\n",
              "salary                   high\n",
              "satisfaction         0.040058\n",
              "status                      0\n",
              "tenure                    2.0\n",
              "employee_id            100101\n",
              "dtype: object"
            ]
          },
          "execution_count": 40,
          "metadata": {},
          "output_type": "execute_result"
        }
      ],
      "source": [
        "# Employee ID\n",
        "df_emp_status[df_emp_status['employee_id']==0]['employee_id'].count()\n",
        "df_emp_status[df_emp_status['employee_id']>0].min()\n"
      ]
    },
    {
      "cell_type": "code",
      "execution_count": null,
      "id": "eea8b86b",
      "metadata": {
        "id": "eea8b86b"
      },
      "outputs": [],
      "source": [
        "#Assign some Employee Ids having 0 values with random values\n",
        "df_emp_status.loc[df_emp_status['employee_id'] == 0,'employee_id'] = df_emp_status['employee_id'].apply(lambda x: abs(np.random.normal(0,100100)))\n",
        "# Treat missing value for contns data\n",
        "df_emp_status['last_evaluation'].fillna(value=df_emp_status['last_evaluation'].median(), inplace=True)\n",
        "df_emp_status['satisfaction'].fillna(value=df_emp_status['satisfaction'].median(), inplace=True)\n",
        "df_emp_status['tenure'].fillna(value=df_emp_status['tenure'].median(), inplace=True)"
      ]
    },
    {
      "cell_type": "code",
      "execution_count": null,
      "id": "f20dba44",
      "metadata": {
        "id": "f20dba44",
        "outputId": "017e01fd-8ef0-4e34-d57d-5c7e4aa1feac"
      },
      "outputs": [
        {
          "data": {
            "text/html": [
              "<div>\n",
              "<style scoped>\n",
              "    .dataframe tbody tr th:only-of-type {\n",
              "        vertical-align: middle;\n",
              "    }\n",
              "\n",
              "    .dataframe tbody tr th {\n",
              "        vertical-align: top;\n",
              "    }\n",
              "\n",
              "    .dataframe thead th {\n",
              "        text-align: right;\n",
              "    }\n",
              "</style>\n",
              "<table border=\"1\" class=\"dataframe\">\n",
              "  <thead>\n",
              "    <tr style=\"text-align: right;\">\n",
              "      <th></th>\n",
              "      <th>employee_id</th>\n",
              "      <th>age</th>\n",
              "      <th>gender</th>\n",
              "      <th>marital_status</th>\n",
              "    </tr>\n",
              "  </thead>\n",
              "  <tbody>\n",
              "  </tbody>\n",
              "</table>\n",
              "</div>"
            ],
            "text/plain": [
              "Empty DataFrame\n",
              "Columns: [employee_id, age, gender, marital_status]\n",
              "Index: []"
            ]
          },
          "execution_count": 42,
          "metadata": {},
          "output_type": "execute_result"
        }
      ],
      "source": [
        "df_emp_details[df_emp_details['employee_id']==0]"
      ]
    },
    {
      "cell_type": "code",
      "execution_count": null,
      "id": "b4e44b3f",
      "metadata": {
        "id": "b4e44b3f",
        "outputId": "bb29a379-b3d9-46e2-e51d-a18bf139fe56"
      },
      "outputs": [
        {
          "data": {
            "text/plain": [
              "avg_monthly_hrs      0\n",
              "department           0\n",
              "filed_complaint      0\n",
              "last_evaluation      0\n",
              "n_projects           0\n",
              "recently_promoted    0\n",
              "salary               0\n",
              "satisfaction         0\n",
              "status               0\n",
              "tenure               0\n",
              "employee_id          0\n",
              "dtype: int64"
            ]
          },
          "execution_count": 43,
          "metadata": {},
          "output_type": "execute_result"
        }
      ],
      "source": [
        "df_emp_status.isnull().sum()"
      ]
    },
    {
      "cell_type": "markdown",
      "id": "4f9e34fb-ad2e-45dc-8712-87720fc26036",
      "metadata": {
        "id": "4f9e34fb-ad2e-45dc-8712-87720fc26036"
      },
      "source": [
        "---\n",
        "<a name = Section6></a>\n",
        "# 6. Exploratory Data Analysis\n"
      ]
    },
    {
      "cell_type": "code",
      "execution_count": null,
      "id": "70428e70",
      "metadata": {
        "id": "70428e70",
        "outputId": "b1485f4e-ce62-4f84-a006-eacbe653ea72"
      },
      "outputs": [
        {
          "data": {
            "text/html": [
              "<div>\n",
              "<style scoped>\n",
              "    .dataframe tbody tr th:only-of-type {\n",
              "        vertical-align: middle;\n",
              "    }\n",
              "\n",
              "    .dataframe tbody tr th {\n",
              "        vertical-align: top;\n",
              "    }\n",
              "\n",
              "    .dataframe thead th {\n",
              "        text-align: right;\n",
              "    }\n",
              "</style>\n",
              "<table border=\"1\" class=\"dataframe\">\n",
              "  <thead>\n",
              "    <tr style=\"text-align: right;\">\n",
              "      <th></th>\n",
              "      <th>avg_monthly_hrs</th>\n",
              "      <th>department</th>\n",
              "      <th>filed_complaint</th>\n",
              "      <th>last_evaluation</th>\n",
              "      <th>n_projects</th>\n",
              "      <th>recently_promoted</th>\n",
              "      <th>salary</th>\n",
              "      <th>satisfaction</th>\n",
              "      <th>status</th>\n",
              "      <th>tenure</th>\n",
              "      <th>employee_id</th>\n",
              "      <th>age</th>\n",
              "      <th>gender</th>\n",
              "      <th>marital_status</th>\n",
              "    </tr>\n",
              "  </thead>\n",
              "  <tbody>\n",
              "    <tr>\n",
              "      <th>0</th>\n",
              "      <td>246.0</td>\n",
              "      <td>D00-SS</td>\n",
              "      <td>0.0</td>\n",
              "      <td>0.866838</td>\n",
              "      <td>6</td>\n",
              "      <td>0.0</td>\n",
              "      <td>medium</td>\n",
              "      <td>0.134415</td>\n",
              "      <td>1</td>\n",
              "      <td>4.0</td>\n",
              "      <td>124467.0</td>\n",
              "      <td>42</td>\n",
              "      <td>Female</td>\n",
              "      <td>Married</td>\n",
              "    </tr>\n",
              "    <tr>\n",
              "      <th>1</th>\n",
              "      <td>134.0</td>\n",
              "      <td>D00-SS</td>\n",
              "      <td>0.0</td>\n",
              "      <td>0.555718</td>\n",
              "      <td>2</td>\n",
              "      <td>0.0</td>\n",
              "      <td>low</td>\n",
              "      <td>0.511041</td>\n",
              "      <td>1</td>\n",
              "      <td>3.0</td>\n",
              "      <td>112210.0</td>\n",
              "      <td>23</td>\n",
              "      <td>Female</td>\n",
              "      <td>Unmarried</td>\n",
              "    </tr>\n",
              "    <tr>\n",
              "      <th>2</th>\n",
              "      <td>156.0</td>\n",
              "      <td>D00-SS</td>\n",
              "      <td>1.0</td>\n",
              "      <td>0.474082</td>\n",
              "      <td>2</td>\n",
              "      <td>0.0</td>\n",
              "      <td>medium</td>\n",
              "      <td>0.405101</td>\n",
              "      <td>1</td>\n",
              "      <td>3.0</td>\n",
              "      <td>126150.0</td>\n",
              "      <td>24</td>\n",
              "      <td>Female</td>\n",
              "      <td>Unmarried</td>\n",
              "    </tr>\n",
              "    <tr>\n",
              "      <th>3</th>\n",
              "      <td>256.0</td>\n",
              "      <td>D00-SP</td>\n",
              "      <td>0.0</td>\n",
              "      <td>0.961360</td>\n",
              "      <td>6</td>\n",
              "      <td>0.0</td>\n",
              "      <td>low</td>\n",
              "      <td>0.152974</td>\n",
              "      <td>1</td>\n",
              "      <td>4.0</td>\n",
              "      <td>125346.0</td>\n",
              "      <td>51</td>\n",
              "      <td>Female</td>\n",
              "      <td>Married</td>\n",
              "    </tr>\n",
              "    <tr>\n",
              "      <th>4</th>\n",
              "      <td>146.0</td>\n",
              "      <td>D00-SS</td>\n",
              "      <td>0.0</td>\n",
              "      <td>0.507349</td>\n",
              "      <td>2</td>\n",
              "      <td>0.0</td>\n",
              "      <td>medium</td>\n",
              "      <td>0.434845</td>\n",
              "      <td>1</td>\n",
              "      <td>3.0</td>\n",
              "      <td>113707.0</td>\n",
              "      <td>23</td>\n",
              "      <td>Female</td>\n",
              "      <td>Unmarried</td>\n",
              "    </tr>\n",
              "  </tbody>\n",
              "</table>\n",
              "</div>"
            ],
            "text/plain": [
              "   avg_monthly_hrs department filed_complaint  last_evaluation  n_projects  \\\n",
              "0            246.0     D00-SS             0.0         0.866838           6   \n",
              "1            134.0     D00-SS             0.0         0.555718           2   \n",
              "2            156.0     D00-SS             1.0         0.474082           2   \n",
              "3            256.0     D00-SP             0.0         0.961360           6   \n",
              "4            146.0     D00-SS             0.0         0.507349           2   \n",
              "\n",
              "  recently_promoted  salary  satisfaction status  tenure  employee_id  age  \\\n",
              "0               0.0  medium      0.134415      1     4.0     124467.0   42   \n",
              "1               0.0     low      0.511041      1     3.0     112210.0   23   \n",
              "2               0.0  medium      0.405101      1     3.0     126150.0   24   \n",
              "3               0.0     low      0.152974      1     4.0     125346.0   51   \n",
              "4               0.0  medium      0.434845      1     3.0     113707.0   23   \n",
              "\n",
              "   gender marital_status  \n",
              "0  Female        Married  \n",
              "1  Female      Unmarried  \n",
              "2  Female      Unmarried  \n",
              "3  Female        Married  \n",
              "4  Female      Unmarried  "
            ]
          },
          "execution_count": 44,
          "metadata": {},
          "output_type": "execute_result"
        }
      ],
      "source": [
        "# join the datasets\n",
        "df_emp_data = pd.merge(df_emp_status,df_emp_details,on='employee_id')\n",
        "df_emp_data.head()"
      ]
    },
    {
      "cell_type": "code",
      "execution_count": null,
      "id": "567a62fb",
      "metadata": {
        "id": "567a62fb",
        "outputId": "1a86c454-9f43-4ac1-cb05-6a1407b981e2"
      },
      "outputs": [
        {
          "data": {
            "application/vnd.jupyter.widget-view+json": {
              "model_id": "ddb4b63f3b06498d9aebe9fc7a970928",
              "version_major": 2,
              "version_minor": 0
            },
            "text/plain": [
              "Summarize dataset:   0%|          | 0/5 [00:00<?, ?it/s]"
            ]
          },
          "metadata": {},
          "output_type": "display_data"
        },
        {
          "data": {
            "application/vnd.jupyter.widget-view+json": {
              "model_id": "9a24dfff302a45d684a5def43683d24c",
              "version_major": 2,
              "version_minor": 0
            },
            "text/plain": [
              "Generate report structure:   0%|          | 0/1 [00:00<?, ?it/s]"
            ]
          },
          "metadata": {},
          "output_type": "display_data"
        },
        {
          "data": {
            "application/vnd.jupyter.widget-view+json": {
              "model_id": "d5533271009c4c7e93c21dc1baf522bc",
              "version_major": 2,
              "version_minor": 0
            },
            "text/plain": [
              "Render HTML:   0%|          | 0/1 [00:00<?, ?it/s]"
            ]
          },
          "metadata": {},
          "output_type": "display_data"
        },
        {
          "data": {
            "application/vnd.jupyter.widget-view+json": {
              "model_id": "08b9971da42f4e6a9a4459db7a267102",
              "version_major": 2,
              "version_minor": 0
            },
            "text/plain": [
              "Export report to file:   0%|          | 0/1 [00:00<?, ?it/s]"
            ]
          },
          "metadata": {},
          "output_type": "display_data"
        },
        {
          "name": "stdout",
          "output_type": "stream",
          "text": [
            "Accomplished!\n"
          ]
        }
      ],
      "source": [
        "#Profiling\n",
        "profile = ProfileReport(df=df_emp_data)\n",
        "profile.to_file(output_file='Post Profiling Report df_emp_data.html')\n",
        "print('Accomplished!')"
      ]
    },
    {
      "cell_type": "code",
      "execution_count": null,
      "id": "0136a97e-0fb9-4c07-81ed-3447734d1790",
      "metadata": {
        "id": "0136a97e-0fb9-4c07-81ed-3447734d1790",
        "outputId": "e213ac5f-13ea-450c-ddff-bcf2509746ce"
      },
      "outputs": [
        {
          "data": {
            "application/vnd.jupyter.widget-view+json": {
              "model_id": "bf205d68e8424d818869b0721ec3a0a7",
              "version_major": 2,
              "version_minor": 0
            },
            "text/plain": [
              "                                             |          | [  0%]   00:00 -> (? left)"
            ]
          },
          "metadata": {},
          "output_type": "display_data"
        },
        {
          "name": "stdout",
          "output_type": "stream",
          "text": [
            "Report Post Profile sweet_report_df_emp_data.html was generated! NOTEBOOK/COLAB USERS: the web browser MAY not pop up, regardless, the report IS saved in your notebook/colab files.\n"
          ]
        }
      ],
      "source": [
        "import sweetviz as sv\n",
        "sweet_report = sv.analyze(df_emp_data)\n",
        "sweet_report.show_html('Post Profile sweet_report_df_emp_data.html')"
      ]
    },
    {
      "cell_type": "code",
      "execution_count": null,
      "id": "247d6d25-d9f3-47df-9b8c-bd915c393957",
      "metadata": {
        "id": "247d6d25-d9f3-47df-9b8c-bd915c393957",
        "outputId": "e69ce4d1-e045-46ea-fd4a-bef2ac0b8250"
      },
      "outputs": [
        {
          "data": {
            "text/plain": [
              "(14116, 14)"
            ]
          },
          "execution_count": 50,
          "metadata": {},
          "output_type": "execute_result"
        }
      ],
      "source": [
        "df_emp_data.shape"
      ]
    },
    {
      "cell_type": "code",
      "execution_count": null,
      "id": "58fc3b33-54f4-486b-8709-ba4d4b426c82",
      "metadata": {
        "id": "58fc3b33-54f4-486b-8709-ba4d4b426c82",
        "outputId": "09ef5f2c-911d-4a46-fbc7-903a424f756b"
      },
      "outputs": [
        {
          "data": {
            "text/plain": [
              "(14116, 14)"
            ]
          },
          "execution_count": 51,
          "metadata": {},
          "output_type": "execute_result"
        }
      ],
      "source": [
        "df_emp_data.drop_duplicates(inplace = True)\n",
        "df_emp_data.shape"
      ]
    },
    {
      "cell_type": "code",
      "execution_count": null,
      "id": "7323521a-71c6-4263-a15f-8bd668afe78b",
      "metadata": {
        "id": "7323521a-71c6-4263-a15f-8bd668afe78b",
        "outputId": "7aedcace-24a1-4d4b-9731-c956ae1dc50e"
      },
      "outputs": [
        {
          "data": {
            "text/plain": [
              "avg_monthly_hrs      0\n",
              "department           0\n",
              "filed_complaint      0\n",
              "last_evaluation      0\n",
              "n_projects           0\n",
              "recently_promoted    0\n",
              "salary               0\n",
              "satisfaction         0\n",
              "status               0\n",
              "tenure               0\n",
              "employee_id          0\n",
              "age                  0\n",
              "gender               0\n",
              "marital_status       0\n",
              "dtype: int64"
            ]
          },
          "execution_count": 98,
          "metadata": {},
          "output_type": "execute_result"
        }
      ],
      "source": [
        "df_emp_data.isna().sum()"
      ]
    },
    {
      "cell_type": "markdown",
      "id": "b6c77e91-4a9b-4ba6-b710-564f665e1d50",
      "metadata": {
        "id": "b6c77e91-4a9b-4ba6-b710-564f665e1d50"
      },
      "source": [
        "### **Exploratory Data Analysis:**<br>\n",
        "##### Top 3 Departments with Highest Attrition: Sales,Engineering,Support**<br>\n",
        "##### Salary Distribution is not normal: High number of employees in Low and Medium Bracket**<br>\n",
        "### EDA : Emloyees who left the Company\n",
        "  -  Mid Level Performers ussually donot tend to leave.\n",
        "  -  Lower Experience tend to leave \n",
        "  -  People spending lower hrs tend to leave.\n",
        "  -  Employee Satisfaction is Low\n",
        "  - for Corelation between different features refer report.\n"
      ]
    },
    {
      "cell_type": "markdown",
      "id": "17462ecf-8cdb-4322-a5f9-3b28e38729cf",
      "metadata": {
        "id": "17462ecf-8cdb-4322-a5f9-3b28e38729cf"
      },
      "source": [
        "---\n",
        "<a name = Section7></a>\n",
        "# 7. Feature Engineering\n"
      ]
    },
    {
      "cell_type": "code",
      "execution_count": null,
      "id": "7bb7c47d-644d-4e53-9229-2c58a13c2b2b",
      "metadata": {
        "id": "7bb7c47d-644d-4e53-9229-2c58a13c2b2b",
        "outputId": "b9a5777f-9300-4f4e-a5b1-9199ead8d88e"
      },
      "outputs": [
        {
          "data": {
            "text/html": [
              "<div>\n",
              "<style scoped>\n",
              "    .dataframe tbody tr th:only-of-type {\n",
              "        vertical-align: middle;\n",
              "    }\n",
              "\n",
              "    .dataframe tbody tr th {\n",
              "        vertical-align: top;\n",
              "    }\n",
              "\n",
              "    .dataframe thead th {\n",
              "        text-align: right;\n",
              "    }\n",
              "</style>\n",
              "<table border=\"1\" class=\"dataframe\">\n",
              "  <thead>\n",
              "    <tr style=\"text-align: right;\">\n",
              "      <th></th>\n",
              "      <th>avg_monthly_hrs</th>\n",
              "      <th>department</th>\n",
              "      <th>filed_complaint</th>\n",
              "      <th>last_evaluation</th>\n",
              "      <th>n_projects</th>\n",
              "      <th>recently_promoted</th>\n",
              "      <th>salary</th>\n",
              "      <th>satisfaction</th>\n",
              "      <th>status</th>\n",
              "      <th>tenure</th>\n",
              "      <th>age</th>\n",
              "      <th>gender</th>\n",
              "      <th>marital_status</th>\n",
              "    </tr>\n",
              "    <tr>\n",
              "      <th>employee_id</th>\n",
              "      <th></th>\n",
              "      <th></th>\n",
              "      <th></th>\n",
              "      <th></th>\n",
              "      <th></th>\n",
              "      <th></th>\n",
              "      <th></th>\n",
              "      <th></th>\n",
              "      <th></th>\n",
              "      <th></th>\n",
              "      <th></th>\n",
              "      <th></th>\n",
              "      <th></th>\n",
              "    </tr>\n",
              "  </thead>\n",
              "  <tbody>\n",
              "    <tr>\n",
              "      <th>124467.0</th>\n",
              "      <td>246.0</td>\n",
              "      <td>D00-SS</td>\n",
              "      <td>0.0</td>\n",
              "      <td>0.866838</td>\n",
              "      <td>6</td>\n",
              "      <td>0.0</td>\n",
              "      <td>medium</td>\n",
              "      <td>0.134415</td>\n",
              "      <td>1</td>\n",
              "      <td>4.0</td>\n",
              "      <td>42</td>\n",
              "      <td>Female</td>\n",
              "      <td>Married</td>\n",
              "    </tr>\n",
              "    <tr>\n",
              "      <th>112210.0</th>\n",
              "      <td>134.0</td>\n",
              "      <td>D00-SS</td>\n",
              "      <td>0.0</td>\n",
              "      <td>0.555718</td>\n",
              "      <td>2</td>\n",
              "      <td>0.0</td>\n",
              "      <td>low</td>\n",
              "      <td>0.511041</td>\n",
              "      <td>1</td>\n",
              "      <td>3.0</td>\n",
              "      <td>23</td>\n",
              "      <td>Female</td>\n",
              "      <td>Unmarried</td>\n",
              "    </tr>\n",
              "    <tr>\n",
              "      <th>126150.0</th>\n",
              "      <td>156.0</td>\n",
              "      <td>D00-SS</td>\n",
              "      <td>1.0</td>\n",
              "      <td>0.474082</td>\n",
              "      <td>2</td>\n",
              "      <td>0.0</td>\n",
              "      <td>medium</td>\n",
              "      <td>0.405101</td>\n",
              "      <td>1</td>\n",
              "      <td>3.0</td>\n",
              "      <td>24</td>\n",
              "      <td>Female</td>\n",
              "      <td>Unmarried</td>\n",
              "    </tr>\n",
              "    <tr>\n",
              "      <th>125346.0</th>\n",
              "      <td>256.0</td>\n",
              "      <td>D00-SP</td>\n",
              "      <td>0.0</td>\n",
              "      <td>0.961360</td>\n",
              "      <td>6</td>\n",
              "      <td>0.0</td>\n",
              "      <td>low</td>\n",
              "      <td>0.152974</td>\n",
              "      <td>1</td>\n",
              "      <td>4.0</td>\n",
              "      <td>51</td>\n",
              "      <td>Female</td>\n",
              "      <td>Married</td>\n",
              "    </tr>\n",
              "    <tr>\n",
              "      <th>113707.0</th>\n",
              "      <td>146.0</td>\n",
              "      <td>D00-SS</td>\n",
              "      <td>0.0</td>\n",
              "      <td>0.507349</td>\n",
              "      <td>2</td>\n",
              "      <td>0.0</td>\n",
              "      <td>medium</td>\n",
              "      <td>0.434845</td>\n",
              "      <td>1</td>\n",
              "      <td>3.0</td>\n",
              "      <td>23</td>\n",
              "      <td>Female</td>\n",
              "      <td>Unmarried</td>\n",
              "    </tr>\n",
              "    <tr>\n",
              "      <th>...</th>\n",
              "      <td>...</td>\n",
              "      <td>...</td>\n",
              "      <td>...</td>\n",
              "      <td>...</td>\n",
              "      <td>...</td>\n",
              "      <td>...</td>\n",
              "      <td>...</td>\n",
              "      <td>...</td>\n",
              "      <td>...</td>\n",
              "      <td>...</td>\n",
              "      <td>...</td>\n",
              "      <td>...</td>\n",
              "      <td>...</td>\n",
              "    </tr>\n",
              "    <tr>\n",
              "      <th>100833.0</th>\n",
              "      <td>141.0</td>\n",
              "      <td>D00-SS</td>\n",
              "      <td>0.0</td>\n",
              "      <td>0.537866</td>\n",
              "      <td>3</td>\n",
              "      <td>0.0</td>\n",
              "      <td>low</td>\n",
              "      <td>0.610841</td>\n",
              "      <td>0</td>\n",
              "      <td>3.0</td>\n",
              "      <td>29</td>\n",
              "      <td>Male</td>\n",
              "      <td>Unmarried</td>\n",
              "    </tr>\n",
              "    <tr>\n",
              "      <th>118090.0</th>\n",
              "      <td>168.0</td>\n",
              "      <td>D00-SS</td>\n",
              "      <td>0.0</td>\n",
              "      <td>0.643553</td>\n",
              "      <td>3</td>\n",
              "      <td>0.0</td>\n",
              "      <td>low</td>\n",
              "      <td>0.489559</td>\n",
              "      <td>0</td>\n",
              "      <td>3.0</td>\n",
              "      <td>24</td>\n",
              "      <td>Female</td>\n",
              "      <td>Unmarried</td>\n",
              "    </tr>\n",
              "    <tr>\n",
              "      <th>106064.0</th>\n",
              "      <td>257.0</td>\n",
              "      <td>D00-SP</td>\n",
              "      <td>0.0</td>\n",
              "      <td>0.724731</td>\n",
              "      <td>3</td>\n",
              "      <td>0.0</td>\n",
              "      <td>medium</td>\n",
              "      <td>0.944942</td>\n",
              "      <td>0</td>\n",
              "      <td>3.0</td>\n",
              "      <td>27</td>\n",
              "      <td>Male</td>\n",
              "      <td>Unmarried</td>\n",
              "    </tr>\n",
              "    <tr>\n",
              "      <th>113083.0</th>\n",
              "      <td>242.0</td>\n",
              "      <td>D00-IT</td>\n",
              "      <td>0.0</td>\n",
              "      <td>0.836603</td>\n",
              "      <td>4</td>\n",
              "      <td>0.0</td>\n",
              "      <td>low</td>\n",
              "      <td>0.740136</td>\n",
              "      <td>0</td>\n",
              "      <td>2.0</td>\n",
              "      <td>46</td>\n",
              "      <td>Male</td>\n",
              "      <td>Married</td>\n",
              "    </tr>\n",
              "    <tr>\n",
              "      <th>104996.0</th>\n",
              "      <td>171.0</td>\n",
              "      <td>D00-SP</td>\n",
              "      <td>1.0</td>\n",
              "      <td>0.907277</td>\n",
              "      <td>3</td>\n",
              "      <td>0.0</td>\n",
              "      <td>low</td>\n",
              "      <td>0.506658</td>\n",
              "      <td>0</td>\n",
              "      <td>3.0</td>\n",
              "      <td>22</td>\n",
              "      <td>Male</td>\n",
              "      <td>Unmarried</td>\n",
              "    </tr>\n",
              "  </tbody>\n",
              "</table>\n",
              "<p>14116 rows × 13 columns</p>\n",
              "</div>"
            ],
            "text/plain": [
              "             avg_monthly_hrs department filed_complaint  last_evaluation  \\\n",
              "employee_id                                                                \n",
              "124467.0               246.0     D00-SS             0.0         0.866838   \n",
              "112210.0               134.0     D00-SS             0.0         0.555718   \n",
              "126150.0               156.0     D00-SS             1.0         0.474082   \n",
              "125346.0               256.0     D00-SP             0.0         0.961360   \n",
              "113707.0               146.0     D00-SS             0.0         0.507349   \n",
              "...                      ...        ...             ...              ...   \n",
              "100833.0               141.0     D00-SS             0.0         0.537866   \n",
              "118090.0               168.0     D00-SS             0.0         0.643553   \n",
              "106064.0               257.0     D00-SP             0.0         0.724731   \n",
              "113083.0               242.0     D00-IT             0.0         0.836603   \n",
              "104996.0               171.0     D00-SP             1.0         0.907277   \n",
              "\n",
              "             n_projects recently_promoted  salary  satisfaction status  \\\n",
              "employee_id                                                              \n",
              "124467.0              6               0.0  medium      0.134415      1   \n",
              "112210.0              2               0.0     low      0.511041      1   \n",
              "126150.0              2               0.0  medium      0.405101      1   \n",
              "125346.0              6               0.0     low      0.152974      1   \n",
              "113707.0              2               0.0  medium      0.434845      1   \n",
              "...                 ...               ...     ...           ...    ...   \n",
              "100833.0              3               0.0     low      0.610841      0   \n",
              "118090.0              3               0.0     low      0.489559      0   \n",
              "106064.0              3               0.0  medium      0.944942      0   \n",
              "113083.0              4               0.0     low      0.740136      0   \n",
              "104996.0              3               0.0     low      0.506658      0   \n",
              "\n",
              "             tenure  age  gender marital_status  \n",
              "employee_id                                      \n",
              "124467.0        4.0   42  Female        Married  \n",
              "112210.0        3.0   23  Female      Unmarried  \n",
              "126150.0        3.0   24  Female      Unmarried  \n",
              "125346.0        4.0   51  Female        Married  \n",
              "113707.0        3.0   23  Female      Unmarried  \n",
              "...             ...  ...     ...            ...  \n",
              "100833.0        3.0   29    Male      Unmarried  \n",
              "118090.0        3.0   24  Female      Unmarried  \n",
              "106064.0        3.0   27    Male      Unmarried  \n",
              "113083.0        2.0   46    Male        Married  \n",
              "104996.0        3.0   22    Male      Unmarried  \n",
              "\n",
              "[14116 rows x 13 columns]"
            ]
          },
          "execution_count": 49,
          "metadata": {},
          "output_type": "execute_result"
        }
      ],
      "source": [
        "df_emp_data.set_index('employee_id')"
      ]
    },
    {
      "cell_type": "code",
      "execution_count": null,
      "id": "27842dc9-6e0a-4451-92c2-006317db1e4a",
      "metadata": {
        "id": "27842dc9-6e0a-4451-92c2-006317db1e4a"
      },
      "outputs": [],
      "source": [
        "#Supervised Learning : Spearate Explainatory variables and Target Variables\n",
        "\n",
        "# independent variables\n",
        "x_data = df_emp_data.drop(['status'],axis=1)\n",
        "# dependent variables\n",
        "y_data = df_emp_data['status']\n",
        "y_data = y_data.astype('float64')"
      ]
    },
    {
      "cell_type": "markdown",
      "id": "f57c4eac-828c-48ab-927e-89e540bc87be",
      "metadata": {
        "id": "f57c4eac-828c-48ab-927e-89e540bc87be"
      },
      "source": [
        "**Feature Transformation:**<br>\n",
        "- Divide the Features in Categorical and Continous Data<br>\n",
        "- Apply different Transformations : Categorical Data<br>\n",
        "- Apply different Transformations : Continous Data<br>\n",
        "- Combine tranformed Data<br>\n",
        "- Finalize the best transformation Technique<br><br>"
      ]
    },
    {
      "cell_type": "markdown",
      "id": "4ebf61c7-2fab-4577-9c52-d3c77fcd92b2",
      "metadata": {
        "id": "4ebf61c7-2fab-4577-9c52-d3c77fcd92b2"
      },
      "source": [
        "**Divide the Features in Categorical and Continous Data:**<br>"
      ]
    },
    {
      "cell_type": "code",
      "execution_count": null,
      "id": "2072b5a4-4d04-49e9-bb5a-18d3a3a10b2e",
      "metadata": {
        "id": "2072b5a4-4d04-49e9-bb5a-18d3a3a10b2e",
        "outputId": "94e98713-81f0-47b3-e986-b41b28f98e8d"
      },
      "outputs": [
        {
          "name": "stdout",
          "output_type": "stream",
          "text": [
            "Categorical feature shape is (14116, 6)\n"
          ]
        }
      ],
      "source": [
        "#Divide cat and contns data and apply transformation\n",
        "# Getting categorical features\n",
        "x_data_cat = x_data.select_dtypes(include='object')\n",
        "print(f\"Categorical feature shape is {x_data_cat.shape}\")"
      ]
    },
    {
      "cell_type": "code",
      "execution_count": null,
      "id": "d5d565bd-b551-432b-a862-d42959b87e4a",
      "metadata": {
        "id": "d5d565bd-b551-432b-a862-d42959b87e4a",
        "outputId": "ad075774-34c2-4e7c-d9b8-5c78748fc67c"
      },
      "outputs": [
        {
          "name": "stdout",
          "output_type": "stream",
          "text": [
            "Contimous feature shape is (14116, 7)\n"
          ]
        }
      ],
      "source": [
        "#Contns Data\n",
        "x_data_contns = x_data.select_dtypes(include=['int64','float64'])\n",
        "print(f\"Contimous feature shape is {x_data_contns.shape}\")"
      ]
    },
    {
      "cell_type": "markdown",
      "id": "96a47169-135b-4768-8c26-3a70b9a3b71d",
      "metadata": {
        "id": "96a47169-135b-4768-8c26-3a70b9a3b71d"
      },
      "source": [
        "**Apply different Transformations : Categorical Data:**<br>\n",
        "- One Hot Encoding<br>"
      ]
    },
    {
      "cell_type": "code",
      "execution_count": null,
      "id": "ded7c29a-81cc-48e0-b109-a0f375e062b1",
      "metadata": {
        "id": "ded7c29a-81cc-48e0-b109-a0f375e062b1"
      },
      "outputs": [],
      "source": [
        "# importing train_test_split for cat\n",
        "from sklearn.model_selection import train_test_split\n",
        "xtrain_cat,xtest_cat,ytrain,ytest= train_test_split(x_data_cat,y_data,test_size=0.20,random_state=20)"
      ]
    },
    {
      "cell_type": "code",
      "execution_count": null,
      "id": "6de50280-07a5-444b-95b1-dbf5e1e252c4",
      "metadata": {
        "id": "6de50280-07a5-444b-95b1-dbf5e1e252c4"
      },
      "outputs": [],
      "source": [
        "# One Hot Encoding for Categorical Data\n",
        "from sklearn.preprocessing import OneHotEncoder\n",
        "enc = OneHotEncoder(handle_unknown='ignore')\n",
        "Fit = enc.fit(xtrain_cat)\n",
        "OneHotEncoder(handle_unknown='ignore')\n",
        "xtrain_cat_enc = Fit.transform(xtrain_cat).toarray()\n",
        "xtest_cat_enc = Fit.transform(xtest_cat).toarray()"
      ]
    },
    {
      "cell_type": "code",
      "execution_count": null,
      "id": "35c9a0ef-ef31-4669-bcc6-c85aad89f608",
      "metadata": {
        "id": "35c9a0ef-ef31-4669-bcc6-c85aad89f608",
        "outputId": "e51ac1e4-5fc5-4222-93ed-8cc5d563b202"
      },
      "outputs": [
        {
          "data": {
            "text/plain": [
              "(2824, 6)"
            ]
          },
          "execution_count": 62,
          "metadata": {},
          "output_type": "execute_result"
        }
      ],
      "source": [
        "xtest_cat.shape"
      ]
    },
    {
      "cell_type": "code",
      "execution_count": null,
      "id": "450b5c7b-ece4-441d-8ba2-63430fe1b84b",
      "metadata": {
        "id": "450b5c7b-ece4-441d-8ba2-63430fe1b84b",
        "outputId": "acefe801-a201-4c6d-e141-3e6e3d2a5488"
      },
      "outputs": [
        {
          "name": "stdout",
          "output_type": "stream",
          "text": [
            "(2824, 22)\n"
          ]
        },
        {
          "data": {
            "text/plain": [
              "(11292, 22)"
            ]
          },
          "execution_count": 63,
          "metadata": {},
          "output_type": "execute_result"
        }
      ],
      "source": [
        "print(xtest_cat_enc.shape)\n",
        "xtrain_cat_enc.shape"
      ]
    },
    {
      "cell_type": "code",
      "execution_count": null,
      "id": "2322bd3f-e7e3-460d-bb2a-74942bb8d64f",
      "metadata": {
        "id": "2322bd3f-e7e3-460d-bb2a-74942bb8d64f",
        "outputId": "1eec4322-c114-42f2-cc1b-a489b4476506"
      },
      "outputs": [
        {
          "name": "stdout",
          "output_type": "stream",
          "text": [
            "(11292, 22)\n",
            "float64\n"
          ]
        },
        {
          "data": {
            "text/html": [
              "<div>\n",
              "<style scoped>\n",
              "    .dataframe tbody tr th:only-of-type {\n",
              "        vertical-align: middle;\n",
              "    }\n",
              "\n",
              "    .dataframe tbody tr th {\n",
              "        vertical-align: top;\n",
              "    }\n",
              "\n",
              "    .dataframe thead th {\n",
              "        text-align: right;\n",
              "    }\n",
              "</style>\n",
              "<table border=\"1\" class=\"dataframe\">\n",
              "  <thead>\n",
              "    <tr style=\"text-align: right;\">\n",
              "      <th></th>\n",
              "      <th>0</th>\n",
              "      <th>1</th>\n",
              "      <th>2</th>\n",
              "      <th>3</th>\n",
              "      <th>4</th>\n",
              "      <th>5</th>\n",
              "      <th>6</th>\n",
              "      <th>7</th>\n",
              "      <th>8</th>\n",
              "      <th>9</th>\n",
              "      <th>...</th>\n",
              "      <th>12</th>\n",
              "      <th>13</th>\n",
              "      <th>14</th>\n",
              "      <th>15</th>\n",
              "      <th>16</th>\n",
              "      <th>17</th>\n",
              "      <th>18</th>\n",
              "      <th>19</th>\n",
              "      <th>20</th>\n",
              "      <th>21</th>\n",
              "    </tr>\n",
              "  </thead>\n",
              "  <tbody>\n",
              "    <tr>\n",
              "      <th>0</th>\n",
              "      <td>0.0</td>\n",
              "      <td>1.0</td>\n",
              "      <td>0.0</td>\n",
              "      <td>0.0</td>\n",
              "      <td>0.0</td>\n",
              "      <td>0.0</td>\n",
              "      <td>0.0</td>\n",
              "      <td>0.0</td>\n",
              "      <td>0.0</td>\n",
              "      <td>0.0</td>\n",
              "      <td>...</td>\n",
              "      <td>1.0</td>\n",
              "      <td>1.0</td>\n",
              "      <td>0.0</td>\n",
              "      <td>0.0</td>\n",
              "      <td>0.0</td>\n",
              "      <td>1.0</td>\n",
              "      <td>0.0</td>\n",
              "      <td>1.0</td>\n",
              "      <td>0.0</td>\n",
              "      <td>1.0</td>\n",
              "    </tr>\n",
              "    <tr>\n",
              "      <th>1</th>\n",
              "      <td>0.0</td>\n",
              "      <td>0.0</td>\n",
              "      <td>0.0</td>\n",
              "      <td>0.0</td>\n",
              "      <td>0.0</td>\n",
              "      <td>0.0</td>\n",
              "      <td>0.0</td>\n",
              "      <td>0.0</td>\n",
              "      <td>1.0</td>\n",
              "      <td>0.0</td>\n",
              "      <td>...</td>\n",
              "      <td>1.0</td>\n",
              "      <td>1.0</td>\n",
              "      <td>0.0</td>\n",
              "      <td>0.0</td>\n",
              "      <td>0.0</td>\n",
              "      <td>1.0</td>\n",
              "      <td>0.0</td>\n",
              "      <td>1.0</td>\n",
              "      <td>1.0</td>\n",
              "      <td>0.0</td>\n",
              "    </tr>\n",
              "    <tr>\n",
              "      <th>2</th>\n",
              "      <td>0.0</td>\n",
              "      <td>0.0</td>\n",
              "      <td>0.0</td>\n",
              "      <td>0.0</td>\n",
              "      <td>0.0</td>\n",
              "      <td>0.0</td>\n",
              "      <td>1.0</td>\n",
              "      <td>0.0</td>\n",
              "      <td>0.0</td>\n",
              "      <td>0.0</td>\n",
              "      <td>...</td>\n",
              "      <td>0.0</td>\n",
              "      <td>1.0</td>\n",
              "      <td>0.0</td>\n",
              "      <td>0.0</td>\n",
              "      <td>1.0</td>\n",
              "      <td>0.0</td>\n",
              "      <td>1.0</td>\n",
              "      <td>0.0</td>\n",
              "      <td>1.0</td>\n",
              "      <td>0.0</td>\n",
              "    </tr>\n",
              "    <tr>\n",
              "      <th>3</th>\n",
              "      <td>0.0</td>\n",
              "      <td>0.0</td>\n",
              "      <td>0.0</td>\n",
              "      <td>1.0</td>\n",
              "      <td>0.0</td>\n",
              "      <td>0.0</td>\n",
              "      <td>0.0</td>\n",
              "      <td>0.0</td>\n",
              "      <td>0.0</td>\n",
              "      <td>0.0</td>\n",
              "      <td>...</td>\n",
              "      <td>0.0</td>\n",
              "      <td>1.0</td>\n",
              "      <td>0.0</td>\n",
              "      <td>0.0</td>\n",
              "      <td>1.0</td>\n",
              "      <td>0.0</td>\n",
              "      <td>1.0</td>\n",
              "      <td>0.0</td>\n",
              "      <td>1.0</td>\n",
              "      <td>0.0</td>\n",
              "    </tr>\n",
              "    <tr>\n",
              "      <th>4</th>\n",
              "      <td>0.0</td>\n",
              "      <td>0.0</td>\n",
              "      <td>0.0</td>\n",
              "      <td>0.0</td>\n",
              "      <td>0.0</td>\n",
              "      <td>0.0</td>\n",
              "      <td>0.0</td>\n",
              "      <td>0.0</td>\n",
              "      <td>0.0</td>\n",
              "      <td>1.0</td>\n",
              "      <td>...</td>\n",
              "      <td>0.0</td>\n",
              "      <td>1.0</td>\n",
              "      <td>0.0</td>\n",
              "      <td>0.0</td>\n",
              "      <td>0.0</td>\n",
              "      <td>1.0</td>\n",
              "      <td>1.0</td>\n",
              "      <td>0.0</td>\n",
              "      <td>0.0</td>\n",
              "      <td>1.0</td>\n",
              "    </tr>\n",
              "  </tbody>\n",
              "</table>\n",
              "<p>5 rows × 22 columns</p>\n",
              "</div>"
            ],
            "text/plain": [
              "    0    1    2    3    4    5    6    7    8    9   ...   12   13   14   15  \\\n",
              "0  0.0  1.0  0.0  0.0  0.0  0.0  0.0  0.0  0.0  0.0  ...  1.0  1.0  0.0  0.0   \n",
              "1  0.0  0.0  0.0  0.0  0.0  0.0  0.0  0.0  1.0  0.0  ...  1.0  1.0  0.0  0.0   \n",
              "2  0.0  0.0  0.0  0.0  0.0  0.0  1.0  0.0  0.0  0.0  ...  0.0  1.0  0.0  0.0   \n",
              "3  0.0  0.0  0.0  1.0  0.0  0.0  0.0  0.0  0.0  0.0  ...  0.0  1.0  0.0  0.0   \n",
              "4  0.0  0.0  0.0  0.0  0.0  0.0  0.0  0.0  0.0  1.0  ...  0.0  1.0  0.0  0.0   \n",
              "\n",
              "    16   17   18   19   20   21  \n",
              "0  0.0  1.0  0.0  1.0  0.0  1.0  \n",
              "1  0.0  1.0  0.0  1.0  1.0  0.0  \n",
              "2  1.0  0.0  1.0  0.0  1.0  0.0  \n",
              "3  1.0  0.0  1.0  0.0  1.0  0.0  \n",
              "4  0.0  1.0  1.0  0.0  0.0  1.0  \n",
              "\n",
              "[5 rows x 22 columns]"
            ]
          },
          "execution_count": 68,
          "metadata": {},
          "output_type": "execute_result"
        }
      ],
      "source": [
        "print(xtrain_cat_enc.shape)\n",
        "print(xtrain_cat_enc.dtype)\n",
        "df_Xcat = pd.DataFrame(xtrain_cat_enc)\n",
        "df_Xcat.head()"
      ]
    },
    {
      "cell_type": "markdown",
      "id": "31bbc807-9be5-4ee1-9a13-28438f1baca8",
      "metadata": {
        "id": "31bbc807-9be5-4ee1-9a13-28438f1baca8"
      },
      "source": [
        "**Apply different Transformations : Continous Data:**<br>\n",
        "- Power Transform<br>"
      ]
    },
    {
      "cell_type": "code",
      "execution_count": null,
      "id": "d7c16611-0cbd-4fff-8926-8678a2ce1a81",
      "metadata": {
        "id": "d7c16611-0cbd-4fff-8926-8678a2ce1a81",
        "outputId": "771c462f-471b-406f-e6a0-aec42a383a37"
      },
      "outputs": [
        {
          "name": "stdout",
          "output_type": "stream",
          "text": [
            "(11292, 7)\n",
            "(2824, 7)\n"
          ]
        }
      ],
      "source": [
        "#Power Transform for cont Data\n",
        "# importing train_test_split for cat\n",
        "from sklearn.model_selection import train_test_split\n",
        "xtrain_contns,xtest_contns,ytrain,ytest= train_test_split(x_data_contns,y_data,test_size=0.20,random_state=20)\n",
        "pt = PowerTransformer()\n",
        "Fit = pt.fit(xtrain_contns)\n",
        "PowerTransformer(copy=True, method='yeo-johnson', standardize=True)\n",
        "xtrain_contns_pwr = Fit.transform(xtrain_contns)\n",
        "xtest_contns_pwr= Fit.transform(xtest_contns)\n",
        "print(xtrain_contns_pwr.shape)\n",
        "print(xtest_contns_pwr.shape)"
      ]
    },
    {
      "cell_type": "code",
      "execution_count": null,
      "id": "d70407e6-dbbf-44a0-a7e3-73007b968003",
      "metadata": {
        "id": "d70407e6-dbbf-44a0-a7e3-73007b968003",
        "outputId": "6ddf8cda-bbea-49d3-a36d-da6a278ed8e1"
      },
      "outputs": [
        {
          "name": "stdout",
          "output_type": "stream",
          "text": [
            "(11292, 7)\n",
            "float64\n"
          ]
        },
        {
          "data": {
            "text/html": [
              "<div>\n",
              "<style scoped>\n",
              "    .dataframe tbody tr th:only-of-type {\n",
              "        vertical-align: middle;\n",
              "    }\n",
              "\n",
              "    .dataframe tbody tr th {\n",
              "        vertical-align: top;\n",
              "    }\n",
              "\n",
              "    .dataframe thead th {\n",
              "        text-align: right;\n",
              "    }\n",
              "</style>\n",
              "<table border=\"1\" class=\"dataframe\">\n",
              "  <thead>\n",
              "    <tr style=\"text-align: right;\">\n",
              "      <th></th>\n",
              "      <th>0</th>\n",
              "      <th>1</th>\n",
              "      <th>2</th>\n",
              "      <th>3</th>\n",
              "      <th>4</th>\n",
              "      <th>5</th>\n",
              "      <th>6</th>\n",
              "    </tr>\n",
              "  </thead>\n",
              "  <tbody>\n",
              "    <tr>\n",
              "      <th>0</th>\n",
              "      <td>1.349971</td>\n",
              "      <td>1.627903</td>\n",
              "      <td>-0.566715</td>\n",
              "      <td>-0.094217</td>\n",
              "      <td>-0.140902</td>\n",
              "      <td>1.110223e-15</td>\n",
              "      <td>-0.441421</td>\n",
              "    </tr>\n",
              "    <tr>\n",
              "      <th>1</th>\n",
              "      <td>-0.974441</td>\n",
              "      <td>-1.366530</td>\n",
              "      <td>-1.533110</td>\n",
              "      <td>-1.172473</td>\n",
              "      <td>-0.140902</td>\n",
              "      <td>4.440892e-16</td>\n",
              "      <td>0.916658</td>\n",
              "    </tr>\n",
              "    <tr>\n",
              "      <th>2</th>\n",
              "      <td>-1.435066</td>\n",
              "      <td>-0.113721</td>\n",
              "      <td>0.257851</td>\n",
              "      <td>0.217825</td>\n",
              "      <td>1.208062</td>\n",
              "      <td>-2.275957e-15</td>\n",
              "      <td>0.983335</td>\n",
              "    </tr>\n",
              "    <tr>\n",
              "      <th>3</th>\n",
              "      <td>1.257913</td>\n",
              "      <td>0.732486</td>\n",
              "      <td>0.984564</td>\n",
              "      <td>0.213044</td>\n",
              "      <td>-0.140902</td>\n",
              "      <td>1.054712e-15</td>\n",
              "      <td>0.220453</td>\n",
              "    </tr>\n",
              "    <tr>\n",
              "      <th>4</th>\n",
              "      <td>-1.329103</td>\n",
              "      <td>-1.131189</td>\n",
              "      <td>-1.533110</td>\n",
              "      <td>-1.011817</td>\n",
              "      <td>-0.140902</td>\n",
              "      <td>3.608225e-15</td>\n",
              "      <td>-0.980361</td>\n",
              "    </tr>\n",
              "  </tbody>\n",
              "</table>\n",
              "</div>"
            ],
            "text/plain": [
              "          0         1         2         3         4             5         6\n",
              "0  1.349971  1.627903 -0.566715 -0.094217 -0.140902  1.110223e-15 -0.441421\n",
              "1 -0.974441 -1.366530 -1.533110 -1.172473 -0.140902  4.440892e-16  0.916658\n",
              "2 -1.435066 -0.113721  0.257851  0.217825  1.208062 -2.275957e-15  0.983335\n",
              "3  1.257913  0.732486  0.984564  0.213044 -0.140902  1.054712e-15  0.220453\n",
              "4 -1.329103 -1.131189 -1.533110 -1.011817 -0.140902  3.608225e-15 -0.980361"
            ]
          },
          "execution_count": 67,
          "metadata": {},
          "output_type": "execute_result"
        }
      ],
      "source": [
        "print(xtrain_contns_pwr.shape)\n",
        "print(xtrain_contns_pwr.dtype)\n",
        "df_Xcontns = pd.DataFrame(xtrain_contns_pwr)\n",
        "df_Xcontns.head()"
      ]
    },
    {
      "cell_type": "markdown",
      "id": "3b8c6a07-d6b9-4b10-9e15-321b0df394bd",
      "metadata": {
        "id": "3b8c6a07-d6b9-4b10-9e15-321b0df394bd"
      },
      "source": [
        "**Apply different Transformations : Continous Data:**<br>\n",
        "- Standard Scaler<br>"
      ]
    },
    {
      "cell_type": "code",
      "execution_count": null,
      "id": "9b7afb0b-6da0-4308-995d-e2c28f9762eb",
      "metadata": {
        "id": "9b7afb0b-6da0-4308-995d-e2c28f9762eb",
        "outputId": "85c64f77-f934-4d17-a105-c8b5d530af5c"
      },
      "outputs": [
        {
          "name": "stdout",
          "output_type": "stream",
          "text": [
            "(11292, 7)\n",
            "(2824, 7)\n"
          ]
        }
      ],
      "source": [
        "from sklearn.preprocessing import StandardScaler\n",
        "stand= StandardScaler()\n",
        "Fit = stand.fit(xtrain_contns)\n",
        "xtrain_contns_std = Fit.transform(xtrain_contns)\n",
        "xtest_contns_std = Fit.transform(xtest_contns)\n",
        "print(xtrain_contns_std.shape)\n",
        "print(xtest_contns_std.shape)"
      ]
    },
    {
      "cell_type": "markdown",
      "id": "defaac9a-9713-45d3-9f22-f8701cae6994",
      "metadata": {
        "id": "defaac9a-9713-45d3-9f22-f8701cae6994"
      },
      "source": [
        "**Combine Transformed Data:**<br>\n",
        "- Power Transform + One hot encoding<br>"
      ]
    },
    {
      "cell_type": "code",
      "execution_count": null,
      "id": "8ca51f3d",
      "metadata": {
        "id": "8ca51f3d",
        "outputId": "4057d8d8-783f-4fad-804a-e239b1ecf1a8"
      },
      "outputs": [
        {
          "name": "stdout",
          "output_type": "stream",
          "text": [
            "(11292, 29)\n",
            "(2824, 29)\n"
          ]
        }
      ],
      "source": [
        "#Concatenate the transformed conts and cat variables : Power Transform + One hot encoding\n",
        "Xtrain_pwr = np.concatenate([xtrain_contns_pwr,xtrain_cat_enc],axis=1)\n",
        "print(Xtrain_pwr.shape)\n",
        "\n",
        "Xtest_pwr = np.concatenate([xtest_contns_pwr,xtest_cat_enc],axis=1)\n",
        "print(Xtest_pwr.shape)"
      ]
    },
    {
      "cell_type": "markdown",
      "id": "b7f5c357-577f-44ea-8dd2-dac54e44b029",
      "metadata": {
        "id": "b7f5c357-577f-44ea-8dd2-dac54e44b029"
      },
      "source": [
        "**Combine Transformed Data:**<br>\n",
        "- Std Scaler + One hot encoding<br>"
      ]
    },
    {
      "cell_type": "code",
      "execution_count": null,
      "id": "19c92883-5e9c-4e10-894d-b1f77142a9e1",
      "metadata": {
        "id": "19c92883-5e9c-4e10-894d-b1f77142a9e1",
        "outputId": "f313bef2-3428-4118-9e7c-14312bc8b877"
      },
      "outputs": [
        {
          "name": "stdout",
          "output_type": "stream",
          "text": [
            "(11292, 29)\n",
            "(2824, 29)\n"
          ]
        }
      ],
      "source": [
        "#Concatenate the transformed conts and cat variables : Std Scaling + One hot encoding\n",
        "Xtrain_std = np.concatenate([xtrain_contns_std,xtrain_cat_enc],axis=1)\n",
        "print(Xtrain_std.shape)\n",
        "\n",
        "Xtest_std = np.concatenate([xtest_contns_std,xtest_cat_enc],axis=1)\n",
        "print(Xtest_std.shape)"
      ]
    },
    {
      "cell_type": "markdown",
      "id": "74c0062f-3d6c-4d2f-8c04-fc6efc5f0431",
      "metadata": {
        "id": "74c0062f-3d6c-4d2f-8c04-fc6efc5f0431"
      },
      "source": [
        "**Apply PCA on Combine Transformed Data:**<br>\n",
        "- Std Scaler + One hot encoding + PCA <br>\n",
        "- Power Transform + One hot encoding + PCA <br>"
      ]
    },
    {
      "cell_type": "code",
      "execution_count": null,
      "id": "2d2726bd-025a-43ed-977e-a5bd507c47f8",
      "metadata": {
        "id": "2d2726bd-025a-43ed-977e-a5bd507c47f8"
      },
      "outputs": [],
      "source": [
        "from sklearn.decomposition import PCA\n",
        "pca= PCA(n_components=29)"
      ]
    },
    {
      "cell_type": "code",
      "execution_count": null,
      "id": "aebf1acd-054e-48de-a032-0b3120ac5a2c",
      "metadata": {
        "id": "aebf1acd-054e-48de-a032-0b3120ac5a2c",
        "outputId": "b7a28025-7a2a-47c8-e1fb-a49ed4f060d7"
      },
      "outputs": [
        {
          "data": {
            "image/png": "[encoded data removed]",
            "text/plain": [
              "<Figure size 600x400 with 1 Axes>"
            ]
          },
          "metadata": {},
          "output_type": "display_data"
        }
      ],
      "source": [
        "# PCA STD\n",
        "pca.fit(Xtrain_std)\n",
        "Xtrain_std_pca = pca.fit_transform(Xtrain_std)\n",
        "Xtest_std_pca = pca.fit_transform(Xtest_std)\n",
        "\n",
        "pc_values = np.arange(pca.n_components_)+1\n",
        "plt.plot(pc_values,pca.explained_variance_ratio_,'o-',linewidth=2,color='blue')\n",
        "plt.title('Scree Plot')\n",
        "plt.xlabel('Principal Component')\n",
        "plt.ylabel('variance explained')\n",
        "plt.show()"
      ]
    },
    {
      "cell_type": "code",
      "execution_count": null,
      "id": "41b46c0d-3f0d-443e-beff-8c5fcb0823b4",
      "metadata": {
        "id": "41b46c0d-3f0d-443e-beff-8c5fcb0823b4",
        "outputId": "151341a4-7d95-40de-ef4d-853fc93c9f5d"
      },
      "outputs": [
        {
          "data": {
            "image/png": "[encoded data removed]",
            "text/plain": [
              "<Figure size 600x400 with 1 Axes>"
            ]
          },
          "metadata": {},
          "output_type": "display_data"
        }
      ],
      "source": [
        "# PCA PWR\n",
        "pca.fit(Xtrain_pwr)\n",
        "Xtrain_pwr_pca = pca.fit_transform(Xtrain_pwr)\n",
        "Xtest_pwr_pca = pca.fit_transform(Xtest_pwr)\n",
        "\n",
        "pc_values = np.arange(pca.n_components_)+1\n",
        "plt.plot(pc_values,pca.explained_variance_ratio_,'o-',linewidth=2,color='blue')\n",
        "plt.title('Scree Plot')\n",
        "plt.xlabel('Principal Component')\n",
        "plt.ylabel('variance explained')\n",
        "plt.show()"
      ]
    },
    {
      "cell_type": "markdown",
      "id": "6e5d65e1-3858-4a66-b8cc-cbfa9dc2fd8a",
      "metadata": {
        "id": "6e5d65e1-3858-4a66-b8cc-cbfa9dc2fd8a"
      },
      "source": [
        "**Apply WOE Tranformation on original Data:**<br>"
      ]
    },
    {
      "cell_type": "code",
      "execution_count": null,
      "id": "94504f8a-85dc-442d-8a3b-3393dbaf06cf",
      "metadata": {
        "id": "94504f8a-85dc-442d-8a3b-3393dbaf06cf"
      },
      "outputs": [],
      "source": [
        "from xverse.transformer import WOE\n",
        "Xtrain_woe, Xtest_woe, ytrain, ytest = train_test_split(x_data, y_data, test_size= .20,random_state=20)\n",
        "clf_woe = WOE()\n",
        "clf_woe.fit(x_data, y_data)\n",
        "x_data_woe = clf_woe.transform(x_data)"
      ]
    },
    {
      "cell_type": "code",
      "execution_count": null,
      "id": "9b774479-605a-4d3b-8313-55d60dac520a",
      "metadata": {
        "id": "9b774479-605a-4d3b-8313-55d60dac520a",
        "outputId": "fa1ce492-133f-4c44-d81c-7c368f4a0f9d"
      },
      "outputs": [
        {
          "name": "stdout",
          "output_type": "stream",
          "text": [
            "<class 'pandas.core.frame.DataFrame'>\n",
            "Int64Index: 14116 entries, 0 to 14144\n",
            "Data columns (total 13 columns):\n",
            " #   Column             Non-Null Count  Dtype  \n",
            "---  ------             --------------  -----  \n",
            " 0   avg_monthly_hrs    14116 non-null  float64\n",
            " 1   department         14116 non-null  float64\n",
            " 2   filed_complaint    14116 non-null  float64\n",
            " 3   last_evaluation    14116 non-null  float64\n",
            " 4   n_projects         14116 non-null  float64\n",
            " 5   recently_promoted  14116 non-null  float64\n",
            " 6   salary             14116 non-null  float64\n",
            " 7   satisfaction       14116 non-null  float64\n",
            " 8   tenure             14116 non-null  float64\n",
            " 9   employee_id        14116 non-null  float64\n",
            " 10  age                14116 non-null  float64\n",
            " 11  gender             14116 non-null  float64\n",
            " 12  marital_status     14116 non-null  float64\n",
            "dtypes: float64(13)\n",
            "memory usage: 2.0 MB\n"
          ]
        }
      ],
      "source": [
        "x_data_woe.info()"
      ]
    },
    {
      "cell_type": "code",
      "execution_count": null,
      "id": "ef5be7b3-fc11-440e-9dac-3c4ec33fd3a9",
      "metadata": {
        "id": "ef5be7b3-fc11-440e-9dac-3c4ec33fd3a9"
      },
      "outputs": [],
      "source": [
        "#WOE Transformation on data and LR results\n",
        "Xtrain, Xtest, ytrain, ytest = train_test_split(x_data_woe, y_data, test_size= .20,random_state=20)\n"
      ]
    },
    {
      "cell_type": "markdown",
      "id": "ecf75de2-ca56-479e-9764-2bd652082fa3",
      "metadata": {
        "id": "ecf75de2-ca56-479e-9764-2bd652082fa3"
      },
      "source": [
        "**Evaluate Different Feature Transformations using simple Classifier Model results:**<br>\n",
        "- Logistic Regression<br>"
      ]
    },
    {
      "cell_type": "code",
      "execution_count": null,
      "id": "4704d9aa",
      "metadata": {
        "id": "4704d9aa",
        "outputId": "2af1f88d-f782-4a48-db20-80f6976556a9"
      },
      "outputs": [
        {
          "name": "stdout",
          "output_type": "stream",
          "text": [
            "WOE Training Accuracy\n",
            "0.8665426850867871\n",
            "WOE Testing Accuracy\n",
            "0.8640226628895185\n",
            "                   WOE  Training Report          \n",
            "              precision    recall  f1-score   support\n",
            "\n",
            "         0.0       0.90      0.93      0.91      8621\n",
            "         1.0       0.74      0.67      0.70      2671\n",
            "\n",
            "    accuracy                           0.87     11292\n",
            "   macro avg       0.82      0.80      0.81     11292\n",
            "weighted avg       0.86      0.87      0.86     11292\n",
            "\n",
            "                   WOE Testing Report           \n",
            "              precision    recall  f1-score   support\n",
            "\n",
            "         0.0       0.89      0.93      0.91      2140\n",
            "         1.0       0.75      0.66      0.70       684\n",
            "\n",
            "    accuracy                           0.86      2824\n",
            "   macro avg       0.82      0.79      0.81      2824\n",
            "weighted avg       0.86      0.86      0.86      2824\n",
            "\n",
            "                   WOE Testing Confusion Matrix            \n",
            "[[1991  149]\n",
            " [ 235  449]]\n",
            "WOE scoresdt\n",
            "[0.68711656 0.69047619 0.71264368 0.71372549 0.71317829 0.67594433\n",
            " 0.70656371 0.69246436 0.69902913 0.72762646]\n",
            "WOE Average f1\n",
            "0.7018768202193439\n"
          ]
        }
      ],
      "source": [
        "#WOE\n",
        "lr = LogisticRegression()\n",
        "lr.fit(Xtrain,ytrain)\n",
        "\n",
        "print(\"WOE Training Accuracy\")\n",
        "print(lr.score(Xtrain,ytrain))\n",
        "print(\"WOE Testing Accuracy\")\n",
        "print(lr.score(Xtest,ytest))\n",
        "\n",
        "y_train_pred_count = lr.predict(Xtrain)\n",
        "y_test_pred_count = lr.predict(Xtest)\n",
        "#print(confusion_matrix(ytest,predicted))\n",
        "\n",
        "train_report = classification_report(ytrain, y_train_pred_count)\n",
        "test_report = classification_report(ytest, y_test_pred_count)\n",
        "print('                   WOE  Training Report          ')\n",
        "print(train_report)\n",
        "print('                   WOE Testing Report           ')\n",
        "print(test_report)\n",
        "\n",
        "print('                   WOE Testing Confusion Matrix            ')\n",
        "print(confusion_matrix(ytest,y_test_pred_count))\n",
        "\n",
        "scoresdt = cross_val_score(lr,Xtrain,ytrain,cv=10,scoring='f1')\n",
        "print(\"WOE scoresdt\")\n",
        "print(scoresdt)\n",
        "print(\"WOE Average f1\")\n",
        "print(np.mean(scoresdt))\n",
        "\n"
      ]
    },
    {
      "cell_type": "code",
      "execution_count": null,
      "id": "ed84969b-55bb-471f-83b6-34b8369489e6",
      "metadata": {
        "id": "ed84969b-55bb-471f-83b6-34b8369489e6",
        "outputId": "c625cf6c-a4ed-490d-821c-e936ba024d18"
      },
      "outputs": [
        {
          "name": "stdout",
          "output_type": "stream",
          "text": [
            "PWR+OneHot Training Accuracy\n",
            "0.8016294721927028\n",
            "PWR+OneHot Testing Accuracy\n",
            "0.7921388101983002\n",
            "                    PWR+OneHot Training Report          \n",
            "              precision    recall  f1-score   support\n",
            "\n",
            "         0.0       0.84      0.92      0.88      8621\n",
            "         1.0       0.62      0.43      0.51      2671\n",
            "\n",
            "    accuracy                           0.80     11292\n",
            "   macro avg       0.73      0.67      0.69     11292\n",
            "weighted avg       0.79      0.80      0.79     11292\n",
            "\n",
            "                    PWR+OneHot Testing Report           \n",
            "              precision    recall  f1-score   support\n",
            "\n",
            "         0.0       0.83      0.91      0.87      2140\n",
            "         1.0       0.60      0.42      0.50       684\n",
            "\n",
            "    accuracy                           0.79      2824\n",
            "   macro avg       0.72      0.67      0.68      2824\n",
            "weighted avg       0.78      0.79      0.78      2824\n",
            "\n",
            "                    PWR+OneHot Testing Confusion Matrix            \n",
            "[[1949  191]\n",
            " [ 396  288]]\n",
            "PWR+OneHot scoresdt\n",
            "[0.51569507 0.51388889 0.49032258 0.52564103 0.53679654 0.50462963\n",
            " 0.51694915 0.48484848 0.46753247 0.49553571]\n",
            "PWR+OneHot Average f1\n",
            "0.5051839548074856\n"
          ]
        }
      ],
      "source": [
        "#LR Results on Power transformed and One hot encoded\n",
        "lr = LogisticRegression()\n",
        "lr.fit(Xtrain_pwr,ytrain)\n",
        "\n",
        "print(\"PWR+OneHot Training Accuracy\")\n",
        "print(lr.score(Xtrain_pwr,ytrain))\n",
        "print(\"PWR+OneHot Testing Accuracy\")\n",
        "print(lr.score(Xtest_pwr,ytest))\n",
        "y_train_pred_count = lr.predict(Xtrain_pwr)\n",
        "y_test_pred_count = lr.predict(Xtest_pwr)\n",
        "#print(confusion_matrix(ytest,predicted))\n",
        "\n",
        "train_report = classification_report(ytrain, y_train_pred_count)\n",
        "test_report = classification_report(ytest, y_test_pred_count)\n",
        "print('                    PWR+OneHot Training Report          ')\n",
        "print(train_report)\n",
        "print('                    PWR+OneHot Testing Report           ')\n",
        "print(test_report)\n",
        "\n",
        "print('                    PWR+OneHot Testing Confusion Matrix            ')\n",
        "print(confusion_matrix(ytest,y_test_pred_count))\n",
        "\n",
        "\n",
        "scoresdt = cross_val_score(lr,Xtrain_pwr,ytrain,cv=10,scoring='f1')\n",
        "print(\"PWR+OneHot scoresdt\")\n",
        "print(scoresdt)\n",
        "print(\"PWR+OneHot Average f1\")\n",
        "print(np.mean(scoresdt))"
      ]
    },
    {
      "cell_type": "code",
      "execution_count": null,
      "id": "6bb98035",
      "metadata": {
        "id": "6bb98035",
        "outputId": "919993d1-d08b-4b4e-b41f-eff03de7e7cd"
      },
      "outputs": [
        {
          "name": "stdout",
          "output_type": "stream",
          "text": [
            "STD+OneHot Training Accuracy\n",
            "0.8188097768331563\n",
            "STD+OneHot Testing Accuracy\n",
            "0.8087818696883853\n",
            "                    STD+OneHot Training Report          \n",
            "              precision    recall  f1-score   support\n",
            "\n",
            "         0.0       0.85      0.93      0.89      8621\n",
            "         1.0       0.68      0.45      0.54      2671\n",
            "\n",
            "    accuracy                           0.82     11292\n",
            "   macro avg       0.76      0.69      0.71     11292\n",
            "weighted avg       0.81      0.82      0.80     11292\n",
            "\n",
            "                    STD+OneHot Testing Report           \n",
            "              precision    recall  f1-score   support\n",
            "\n",
            "         0.0       0.84      0.92      0.88      2140\n",
            "         1.0       0.65      0.45      0.53       684\n",
            "\n",
            "    accuracy                           0.81      2824\n",
            "   macro avg       0.75      0.69      0.71      2824\n",
            "weighted avg       0.79      0.81      0.80      2824\n",
            "\n",
            "                    STD+OneHot Testing Confusion Matrix            \n",
            "[[1979  161]\n",
            " [ 379  305]]\n",
            "STD+OneHot scoresdt\n",
            "[0.55092593 0.54587156 0.53829322 0.51569507 0.56828194 0.50352941\n",
            " 0.56       0.51247166 0.55384615 0.53452116]\n",
            "STD+OneHot Average f1\n",
            "0.538343608684855\n"
          ]
        }
      ],
      "source": [
        "# Use scaling for contns Data in stead of pwr transforming\n",
        "#LR Results on tandard Scaler and One hot encoded\n",
        "lr = LogisticRegression()\n",
        "lr.fit(Xtrain_std,ytrain)\n",
        "\n",
        "print(\"STD+OneHot Training Accuracy\")\n",
        "print(lr.score(Xtrain_std,ytrain))\n",
        "print(\"STD+OneHot Testing Accuracy\")\n",
        "print(lr.score(Xtest_std,ytest))\n",
        "y_train_pred_count = lr.predict(Xtrain_std)\n",
        "y_test_pred_count = lr.predict(Xtest_std)\n",
        "#print(confusion_matrix(ytest,predicted))\n",
        "\n",
        "train_report = classification_report(ytrain, y_train_pred_count)\n",
        "test_report = classification_report(ytest, y_test_pred_count)\n",
        "print('                    STD+OneHot Training Report          ')\n",
        "print(train_report)\n",
        "print('                    STD+OneHot Testing Report           ')\n",
        "print(test_report)\n",
        "\n",
        "print('                    STD+OneHot Testing Confusion Matrix            ')\n",
        "print(confusion_matrix(ytest,y_test_pred_count))\n",
        "\n",
        "\n",
        "scoresdt = cross_val_score(lr,Xtrain_std,ytrain,cv=10,scoring='f1')\n",
        "print(\"STD+OneHot scoresdt\")\n",
        "print(scoresdt)\n",
        "print(\"STD+OneHot Average f1\")\n",
        "print(np.mean(scoresdt))\n"
      ]
    },
    {
      "cell_type": "code",
      "execution_count": null,
      "id": "31e310db",
      "metadata": {
        "id": "31e310db"
      },
      "outputs": [],
      "source": [
        "\n",
        "#WOE PCA:\n",
        "pca= PCA(n_components=10)\n",
        "pca.fit(Xtrain)\n",
        "Xtrain_woe_pca = pca.fit_transform(Xtrain)\n",
        "Xtest_woe_pca = pca.fit_transform(Xtest)\n",
        "\n",
        "#STD PCA:\n",
        "pca= PCA(n_components=20)\n",
        "pca.fit(Xtrain_std)\n",
        "Xtrain_std_pca = pca.fit_transform(Xtrain_std)\n",
        "Xtest_std_pca = pca.fit_transform(Xtest_std)\n",
        "\n",
        "#PWR PCA:\n",
        "pca= PCA(n_components=20)\n",
        "pca.fit(Xtrain_pwr)\n",
        "Xtrain_pwr_pca = pca.fit_transform(Xtrain_pwr)\n",
        "Xtest_pwr_pca = pca.fit_transform(Xtest_pwr)"
      ]
    },
    {
      "cell_type": "code",
      "execution_count": null,
      "id": "d0a656b4-089a-4103-9b2b-82ad687de437",
      "metadata": {
        "id": "d0a656b4-089a-4103-9b2b-82ad687de437",
        "outputId": "bb7ac121-f204-4384-8aaa-3882d844a653"
      },
      "outputs": [
        {
          "name": "stdout",
          "output_type": "stream",
          "text": [
            "PCA+STD+OneHot Training Accuracy\n",
            "0.8180127523910733\n",
            "PCA+STD+OneHot Testing Accuracy\n",
            "0.78328611898017\n",
            "                    PCA+STD+OneHot Training Report          \n",
            "              precision    recall  f1-score   support\n",
            "\n",
            "         0.0       0.84      0.93      0.89      8621\n",
            "         1.0       0.67      0.45      0.54      2671\n",
            "\n",
            "    accuracy                           0.82     11292\n",
            "   macro avg       0.76      0.69      0.71     11292\n",
            "weighted avg       0.80      0.82      0.80     11292\n",
            "\n",
            "                    PCA+STD+OneHot Testing Report           \n",
            "              precision    recall  f1-score   support\n",
            "\n",
            "         0.0       0.81      0.93      0.87      2140\n",
            "         1.0       0.59      0.34      0.43       684\n",
            "\n",
            "    accuracy                           0.78      2824\n",
            "   macro avg       0.70      0.63      0.65      2824\n",
            "weighted avg       0.76      0.78      0.76      2824\n",
            "\n",
            "                    PCA+STD+OneHot Testing Confusion Matrix            \n",
            "[[1981  159]\n",
            " [ 453  231]]\n",
            "PCA+STD+OneHot scoresdt\n",
            "[0.5462963  0.5412844  0.53275109 0.51901566 0.57079646 0.50117096\n",
            " 0.55752212 0.51818182 0.54017857 0.52796421]\n",
            "PCA+STD+OneHot Average f1\n",
            "0.535516159130943\n"
          ]
        }
      ],
      "source": [
        "# PCA Std Scaler Onehot Encoding\n",
        "lr = LogisticRegression()\n",
        "lr.fit(Xtrain_std_pca,ytrain)\n",
        "\n",
        "print(\"PCA+STD+OneHot Training Accuracy\")\n",
        "print(lr.score(Xtrain_std_pca,ytrain))\n",
        "print(\"PCA+STD+OneHot Testing Accuracy\")\n",
        "print(lr.score(Xtest_std_pca,ytest))\n",
        "y_train_pred_count = lr.predict(Xtrain_std_pca)\n",
        "y_test_pred_count = lr.predict(Xtest_std_pca)\n",
        "#print(confusion_matrix(ytest,predicted))\n",
        "\n",
        "train_report = classification_report(ytrain, y_train_pred_count)\n",
        "test_report = classification_report(ytest, y_test_pred_count)\n",
        "print('                    PCA+STD+OneHot Training Report          ')\n",
        "print(train_report)\n",
        "print('                    PCA+STD+OneHot Testing Report           ')\n",
        "print(test_report)\n",
        "\n",
        "print('                    PCA+STD+OneHot Testing Confusion Matrix            ')\n",
        "print(confusion_matrix(ytest,y_test_pred_count))\n",
        "\n",
        "\n",
        "scoresdt = cross_val_score(lr,Xtrain_std_pca,ytrain,cv=10,scoring='f1')\n",
        "print(\"PCA+STD+OneHot scoresdt\")\n",
        "print(scoresdt)\n",
        "print(\"PCA+STD+OneHot Average f1\")\n",
        "print(np.mean(scoresdt))\n"
      ]
    },
    {
      "cell_type": "code",
      "execution_count": null,
      "id": "1526f96b-7ccf-4420-b732-c9390dff9f3f",
      "metadata": {
        "id": "1526f96b-7ccf-4420-b732-c9390dff9f3f",
        "outputId": "e4c58aef-3bf1-4429-80f4-82b2e974e47d"
      },
      "outputs": [
        {
          "name": "stdout",
          "output_type": "stream",
          "text": [
            "PCA+PWR+OneHot Training Accuracy\n",
            "0.8016294721927028\n",
            "PCA+PWR+OneHot Testing Accuracy\n",
            "0.7503541076487252\n",
            "                    PCA+PWR+OneHot Training Report          \n",
            "              precision    recall  f1-score   support\n",
            "\n",
            "         0.0       0.84      0.92      0.88      8621\n",
            "         1.0       0.62      0.43      0.51      2671\n",
            "\n",
            "    accuracy                           0.80     11292\n",
            "   macro avg       0.73      0.67      0.69     11292\n",
            "weighted avg       0.79      0.80      0.79     11292\n",
            "\n",
            "                    PCA+PWR+OneHot Testing Report           \n",
            "              precision    recall  f1-score   support\n",
            "\n",
            "         0.0       0.80      0.89      0.84      2140\n",
            "         1.0       0.48      0.32      0.39       684\n",
            "\n",
            "    accuracy                           0.75      2824\n",
            "   macro avg       0.64      0.61      0.61      2824\n",
            "weighted avg       0.72      0.75      0.73      2824\n",
            "\n",
            "                    PCA+PWR+OneHot Testing Confusion Matrix            \n",
            "[[1898  242]\n",
            " [ 463  221]]\n",
            "PCA+PWR+OneHot scoresdt\n",
            "[0.51454139 0.50580046 0.49356223 0.52564103 0.53679654 0.50462963\n",
            " 0.51804671 0.48590022 0.47058824 0.49553571]\n",
            "PCA+PWR+OneHot Average f1\n",
            "0.5051042150517664\n"
          ]
        }
      ],
      "source": [
        "# PCA : PWR Transform + One Hot Encoding\n",
        "lr = LogisticRegression()\n",
        "lr.fit(Xtrain_pwr_pca,ytrain)\n",
        "\n",
        "print(\"PCA+PWR+OneHot Training Accuracy\")\n",
        "print(lr.score(Xtrain_pwr_pca,ytrain))\n",
        "print(\"PCA+PWR+OneHot Testing Accuracy\")\n",
        "print(lr.score(Xtest_pwr_pca,ytest))\n",
        "y_train_pred_count = lr.predict(Xtrain_pwr_pca)\n",
        "y_test_pred_count = lr.predict(Xtest_pwr_pca)\n",
        "#print(confusion_matrix(ytest,predicted))\n",
        "\n",
        "train_report = classification_report(ytrain, y_train_pred_count)\n",
        "test_report = classification_report(ytest, y_test_pred_count)\n",
        "print('                    PCA+PWR+OneHot Training Report          ')\n",
        "print(train_report)\n",
        "print('                    PCA+PWR+OneHot Testing Report           ')\n",
        "print(test_report)\n",
        "\n",
        "print('                    PCA+PWR+OneHot Testing Confusion Matrix            ')\n",
        "print(confusion_matrix(ytest,y_test_pred_count))\n",
        "\n",
        "\n",
        "scoresdt = cross_val_score(lr,Xtrain_pwr_pca,ytrain,cv=10,scoring='f1')\n",
        "print(\"PCA+PWR+OneHot scoresdt\")\n",
        "print(scoresdt)\n",
        "print(\"PCA+PWR+OneHot Average f1\")\n",
        "print(np.mean(scoresdt))\n"
      ]
    },
    {
      "cell_type": "code",
      "execution_count": null,
      "id": "f5afce40-9468-4d9e-a8ba-cbbefea34f40",
      "metadata": {
        "id": "f5afce40-9468-4d9e-a8ba-cbbefea34f40",
        "outputId": "7c7ddbfd-a00f-4b4d-9579-79935ccc0c41"
      },
      "outputs": [
        {
          "name": "stdout",
          "output_type": "stream",
          "text": [
            "PCA+WOE Training Accuracy\n",
            "0.8648600779312788\n",
            "PCA+WOE Testing Accuracy\n",
            "0.8519830028328612\n",
            "                    PCA+WOE Training Report          \n",
            "              precision    recall  f1-score   support\n",
            "\n",
            "         0.0       0.90      0.93      0.91      8621\n",
            "         1.0       0.74      0.66      0.70      2671\n",
            "\n",
            "    accuracy                           0.86     11292\n",
            "   macro avg       0.82      0.79      0.81     11292\n",
            "weighted avg       0.86      0.86      0.86     11292\n",
            "\n",
            "                    PCA+WOE Testing Report           \n",
            "              precision    recall  f1-score   support\n",
            "\n",
            "         0.0       0.88      0.93      0.90      2140\n",
            "         1.0       0.73      0.61      0.67       684\n",
            "\n",
            "    accuracy                           0.85      2824\n",
            "   macro avg       0.81      0.77      0.79      2824\n",
            "weighted avg       0.85      0.85      0.85      2824\n",
            "\n",
            "                    PCA+WOE Testing Confusion Matrix            \n",
            "[[1990  150]\n",
            " [ 268  416]]\n",
            "PCA+WOE scoresdt\n",
            "[0.69090909 0.69444444 0.69731801 0.72015656 0.7007874  0.66396761\n",
            " 0.70291262 0.6872428  0.69921875 0.72015656]\n",
            "PCA+WOE Average f1\n",
            "0.6977113837186327\n"
          ]
        }
      ],
      "source": [
        "# PCA WOE\n",
        "lr = LogisticRegression()\n",
        "lr.fit(Xtrain_woe_pca,ytrain)\n",
        "\n",
        "print(\"PCA+WOE Training Accuracy\")\n",
        "print(lr.score(Xtrain_woe_pca,ytrain))\n",
        "print(\"PCA+WOE Testing Accuracy\")\n",
        "print(lr.score(Xtest_woe_pca,ytest))\n",
        "y_train_pred_count = lr.predict(Xtrain_woe_pca)\n",
        "y_test_pred_count = lr.predict(Xtest_woe_pca)\n",
        "#print(confusion_matrix(ytest,predicted))\n",
        "\n",
        "train_report = classification_report(ytrain, y_train_pred_count)\n",
        "test_report = classification_report(ytest, y_test_pred_count)\n",
        "print('                    PCA+WOE Training Report          ')\n",
        "print(train_report)\n",
        "print('                    PCA+WOE Testing Report           ')\n",
        "print(test_report)\n",
        "\n",
        "print('                    PCA+WOE Testing Confusion Matrix            ')\n",
        "print(confusion_matrix(ytest,y_test_pred_count))\n",
        "\n",
        "\n",
        "scoresdt = cross_val_score(lr,Xtrain_woe_pca,ytrain,cv=10,scoring='f1')\n",
        "print(\"PCA+WOE scoresdt\")\n",
        "print(scoresdt)\n",
        "print(\"PCA+WOE Average f1\")\n",
        "print(np.mean(scoresdt))\n"
      ]
    },
    {
      "cell_type": "markdown",
      "id": "282e4300-4318-44fb-bc05-7d09381394de",
      "metadata": {
        "id": "282e4300-4318-44fb-bc05-7d09381394de"
      },
      "source": [
        "---\n",
        "<a name = Section71></a>\n",
        "# 7.1. Selected Feature Engineered Data\n"
      ]
    },
    {
      "cell_type": "markdown",
      "id": "f4522414-c39f-4986-b88b-968f163f7ce9",
      "metadata": {
        "id": "f4522414-c39f-4986-b88b-968f163f7ce9"
      },
      "source": [
        "### Feature Transformer Selection : Selected Tranformer for feature engineering is Weight of Evidence as per below results\n",
        "\n",
        "| Index| Transformer | Accuracy score | Precision | Recall | f1-Score | Average f1-Score |\n",
        "| - | - | - | - | - | - | - |\n",
        "| 1. | WOE  | 0.86402 | 0.75 | 0.66 | 0.70 | 0.70187 |\n",
        "| 2. | Power + One Hot Encoding | 0.79213 | 0.60 | 0.42 | 0.50 | 0.50518 |\n",
        "| 3. | Std Scale + One Hot Encoding | 0.80878 |  0.65  | 0.45  | 0.53 | 0.53834 |\n",
        "| 4. | PCA : WOE| 0.85198 | 0.73 | 0.61 | 0.67| 0.69771 | \n",
        "| 5. | PCA : Std Scale + One Hot Encoding  | 0.78328 | 0.59 | 0.34 | 0.43 | 0.53551 |\n",
        "| 6. | PCA : Power + One Hot Encoding | 0.75035 | 0.72 | 0.75 | 0.73| 0.50510 |"
      ]
    },
    {
      "cell_type": "code",
      "execution_count": null,
      "id": "015d81a1-b560-40e6-9b3c-08e9c3c690fe",
      "metadata": {
        "id": "015d81a1-b560-40e6-9b3c-08e9c3c690fe"
      },
      "outputs": [],
      "source": [
        "#What was done till now\n",
        "#Read the data \n",
        "#Cleaned the Data\n",
        "#Merged the Dataset \n",
        "#Tried different feature engineering and Scaling \n",
        "# Std scaling + One hot encoding +PCA\n",
        "#Power Transformation + One hot encoding + PCS\n",
        "# WOE Encoding\n",
        "# Checked basic performance of LR with above options : WOE gave better results "
      ]
    },
    {
      "cell_type": "markdown",
      "id": "aff4701e-ed86-4d5e-afb1-56a1ca308f1b",
      "metadata": {
        "id": "aff4701e-ed86-4d5e-afb1-56a1ca308f1b"
      },
      "source": [
        "---\n",
        "<a name = Section8></a>\n",
        "# 8. Model Building\n"
      ]
    },
    {
      "cell_type": "markdown",
      "id": "c8bdc9a1-d5b6-4dfa-ae0b-359c4b0f4b98",
      "metadata": {
        "id": "c8bdc9a1-d5b6-4dfa-ae0b-359c4b0f4b98"
      },
      "source": [
        "### Below Models to be applied and Evaluated : \n",
        "### Step 1:\n",
        "- Logistic Regression\n",
        "- Random Forest (Ensemble)\n",
        "- Naive Bayes\n",
        "- K-Neighbors\n",
        "- XGBoost (Ensemble)\n",
        "\n",
        "### Step 2\n",
        "- Bagging for Best Performing Model \n"
      ]
    },
    {
      "cell_type": "markdown",
      "id": "142a9e6f-816f-4669-b186-5e25200ca4df",
      "metadata": {
        "id": "142a9e6f-816f-4669-b186-5e25200ca4df"
      },
      "source": [
        "###### Define Function for Model KPI"
      ]
    },
    {
      "cell_type": "code",
      "execution_count": null,
      "id": "95819945-fd5a-4bab-8b8d-cb49e2906e20",
      "metadata": {
        "id": "95819945-fd5a-4bab-8b8d-cb49e2906e20"
      },
      "outputs": [],
      "source": [
        "def modelKPI(alg,dtrain,dtest,predictors,target): \n",
        "    \n",
        "    Xtrain1 = dtrain[predictors]\n",
        "    Xtest1 = dtest[predictors]\n",
        "    ytrain1 = dtrain[target]\n",
        "    ytest1 = dtest[target]\n",
        "    \n",
        "    y_train_pred_count1 = alg.predict(Xtrain1)\n",
        "    y_test_pred_count1 = alg.predict(Xtest1)\n",
        "    \n",
        "    model_name = type(alg).__name__\n",
        "\n",
        "    train_report = classification_report(ytrain1, y_train_pred_count1)\n",
        "    test_report = classification_report(ytest1, y_test_pred_count1)\n",
        "    print('\\n***********New Model**************',\":\", model_name, ':')\n",
        "    print(\"***********************************************************************************\")\n",
        "    #print('Parameters currently in use:\\n')\n",
        "    #print(alg.get_params())\n",
        "    print(\"***********************************************************************************\")\n",
        "   \n",
        "    \n",
        "    print(model_name,':',\" Training Accuracy\",alg.score(Xtrain1,ytrain1))\n",
        "    print(model_name,':',\" Testing Accuracy\",alg.score(Xtest1,ytest1))\n",
        "    print(model_name,':',' Training Report          ')\n",
        "    print(train_report)\n",
        "    print(\"***********************************************************************************\")\n",
        "    \n",
        "    print(model_name,':',' Testing Report           ')\n",
        "    print(test_report)\n",
        "    print(\"***********************************************************************************\")\n",
        "\n",
        "    print(model_name,':',' Testing Confusion Matrix            ')\n",
        "    print(confusion_matrix(ytest1,y_test_pred_count1))\n",
        "    print(\"***********************************************************************************\")\n",
        "\n",
        "    scoresdt1 = cross_val_score(alg,Xtrain1,ytrain1,cv=10,scoring='f1')\n",
        "    print(model_name,':',\"scoresdt F1\",':',scoresdt1)\n",
        "    print(model_name,':',\"Average f1\",np.mean(scoresdt1))\n",
        "    print(\"***********************************************************************************\")\n",
        "    \n",
        "    scoresdt1 = cross_val_score(alg,Xtrain1,ytrain1,cv=10,scoring='recall_weighted')\n",
        "    print(model_name,':',\"scoresdt_rec\",':',scoresdt1)\n",
        "    print(model_name,':',\"Average recall_weighted\",np.mean(scoresdt1))\n",
        "    print(\"***********************************************************************************\")\n",
        "    \n",
        "    scoresdt1 = cross_val_score(alg,Xtrain1,ytrain1,cv=10,scoring='precision_weighted')\n",
        "    print(model_name,':',\"scoresdt Precision\",':',scoresdt1)\n",
        "    print(model_name,':',\"Average precision_weighted\",np.mean(scoresdt1))\n",
        "    print(\"***********************************************************************************\")\n",
        "\n",
        "    print(\"**************Classifiers Done*************\")"
      ]
    },
    {
      "cell_type": "markdown",
      "id": "8c11ce95-a15d-4ef2-879a-db6b53fd97b3",
      "metadata": {
        "id": "8c11ce95-a15d-4ef2-879a-db6b53fd97b3"
      },
      "source": [
        "### Build Below Models : \n",
        "- Logistic Regression\n",
        "- Random Forest\n",
        "- Naive Bayes\n",
        "- K-Neighbors\n",
        "- XGBClassifier"
      ]
    },
    {
      "cell_type": "code",
      "execution_count": null,
      "id": "0227f13f-a98c-419a-b370-bcdca6294c64",
      "metadata": {
        "id": "0227f13f-a98c-419a-b370-bcdca6294c64",
        "outputId": "59fa04d5-f6ce-4a2b-f5e1-918edd54f06f"
      },
      "outputs": [
        {
          "name": "stdout",
          "output_type": "stream",
          "text": [
            "\n",
            "***********New Model************** : KNeighborsClassifier :\n",
            "***********************************************************************************\n",
            "***********************************************************************************\n",
            "KNeighborsClassifier :  Training Accuracy 0.9453595465816508\n",
            "KNeighborsClassifier :  Testing Accuracy 0.9302407932011332\n",
            "KNeighborsClassifier :  Training Report          \n",
            "              precision    recall  f1-score   support\n",
            "\n",
            "         0.0       0.96      0.96      0.96      8621\n",
            "         1.0       0.88      0.88      0.88      2671\n",
            "\n",
            "    accuracy                           0.95     11292\n",
            "   macro avg       0.92      0.92      0.92     11292\n",
            "weighted avg       0.95      0.95      0.95     11292\n",
            "\n",
            "***********************************************************************************\n",
            "KNeighborsClassifier :  Testing Report           \n",
            "              precision    recall  f1-score   support\n",
            "\n",
            "         0.0       0.95      0.95      0.95      2140\n",
            "         1.0       0.86      0.85      0.86       684\n",
            "\n",
            "    accuracy                           0.93      2824\n",
            "   macro avg       0.91      0.90      0.90      2824\n",
            "weighted avg       0.93      0.93      0.93      2824\n",
            "\n",
            "***********************************************************************************\n",
            "KNeighborsClassifier :  Testing Confusion Matrix            \n",
            "[[2043   97]\n",
            " [ 100  584]]\n",
            "***********************************************************************************\n",
            "KNeighborsClassifier : scoresdt F1 : [0.85557587 0.84427767 0.86238532 0.84859813 0.85090909 0.83301344\n",
            " 0.83458647 0.85660377 0.86415094 0.84714549]\n",
            "KNeighborsClassifier : Average f1 0.8497246191646626\n",
            "***********************************************************************************\n",
            "KNeighborsClassifier : scoresdt_rec : [0.9300885  0.92654867 0.93356953 0.92825509 0.92736935 0.92294066\n",
            " 0.92205492 0.93268379 0.93622675 0.92648361]\n",
            "KNeighborsClassifier : Average recall_weighted 0.9286220870533091\n",
            "***********************************************************************************\n",
            "KNeighborsClassifier : scoresdt Precision : [0.93153187 0.92627991 0.93471019 0.92834945 0.92927033 0.92192131\n",
            " 0.92185973 0.93236247 0.93592419 0.92746644]\n",
            "KNeighborsClassifier : Average precision_weighted 0.9289675894974344\n",
            "***********************************************************************************\n",
            "**************Classifiers Done*************\n",
            "\n",
            "***********New Model************** : RandomForestClassifier :\n",
            "***********************************************************************************\n",
            "***********************************************************************************\n",
            "RandomForestClassifier :  Training Accuracy 0.97458377612469\n",
            "RandomForestClassifier :  Testing Accuracy 0.9451133144475921\n",
            "RandomForestClassifier :  Training Report          \n",
            "              precision    recall  f1-score   support\n",
            "\n",
            "         0.0       0.99      0.97      0.98      8621\n",
            "         1.0       0.92      0.98      0.95      2671\n",
            "\n",
            "    accuracy                           0.97     11292\n",
            "   macro avg       0.96      0.98      0.97     11292\n",
            "weighted avg       0.98      0.97      0.97     11292\n",
            "\n",
            "***********************************************************************************\n",
            "RandomForestClassifier :  Testing Report           \n",
            "              precision    recall  f1-score   support\n",
            "\n",
            "         0.0       0.97      0.96      0.96      2140\n",
            "         1.0       0.88      0.89      0.89       684\n",
            "\n",
            "    accuracy                           0.95      2824\n",
            "   macro avg       0.92      0.93      0.93      2824\n",
            "weighted avg       0.95      0.95      0.95      2824\n",
            "\n",
            "***********************************************************************************\n",
            "RandomForestClassifier :  Testing Confusion Matrix            \n",
            "[[2059   81]\n",
            " [  74  610]]\n",
            "***********************************************************************************\n",
            "RandomForestClassifier : scoresdt F1 : [0.89013035 0.88847584 0.88640596 0.85343228 0.89454545 0.87640449\n",
            " 0.86778399 0.86136784 0.88804554 0.85245902]\n",
            "RandomForestClassifier : Average f1 0.8759050759842666\n",
            "***********************************************************************************\n",
            "RandomForestClassifier : scoresdt_rec : [0.94778761 0.94690265 0.94596988 0.93002657 0.9486271  0.94154119\n",
            " 0.93711249 0.93356953 0.94774136 0.92825509]\n",
            "RandomForestClassifier : Average recall_weighted 0.9407533489578842\n",
            "***********************************************************************************\n",
            "RandomForestClassifier : scoresdt Precision : [0.94800599 0.94704618 0.94619511 0.93051921 0.95012818 0.94154119\n",
            " 0.93737145 0.93425074 0.9473568  0.92999892]\n",
            "RandomForestClassifier : Average precision_weighted 0.9412413755145088\n",
            "***********************************************************************************\n",
            "**************Classifiers Done*************\n",
            "\n",
            "***********New Model************** : GaussianNB :\n",
            "***********************************************************************************\n",
            "***********************************************************************************\n",
            "GaussianNB :  Training Accuracy 0.796758767268863\n",
            "GaussianNB :  Testing Accuracy 0.7956798866855525\n",
            "GaussianNB :  Training Report          \n",
            "              precision    recall  f1-score   support\n",
            "\n",
            "         0.0       0.93      0.80      0.86      8621\n",
            "         1.0       0.55      0.80      0.65      2671\n",
            "\n",
            "    accuracy                           0.80     11292\n",
            "   macro avg       0.74      0.80      0.75     11292\n",
            "weighted avg       0.84      0.80      0.81     11292\n",
            "\n",
            "***********************************************************************************\n",
            "GaussianNB :  Testing Report           \n",
            "              precision    recall  f1-score   support\n",
            "\n",
            "         0.0       0.92      0.80      0.86      2140\n",
            "         1.0       0.56      0.78      0.65       684\n",
            "\n",
            "    accuracy                           0.80      2824\n",
            "   macro avg       0.74      0.79      0.75      2824\n",
            "weighted avg       0.83      0.80      0.81      2824\n",
            "\n",
            "***********************************************************************************\n",
            "GaussianNB :  Testing Confusion Matrix            \n",
            "[[1711  429]\n",
            " [ 148  536]]\n",
            "***********************************************************************************\n",
            "GaussianNB : scoresdt F1 : [0.65367316 0.62822458 0.62865497 0.66360856 0.66666667 0.64126984\n",
            " 0.64264264 0.65331279 0.64962406 0.6552795 ]\n",
            "GaussianNB : Average f1 0.6482956782311844\n",
            "***********************************************************************************\n",
            "GaussianNB : scoresdt_rec : [0.79557522 0.78318584 0.77502214 0.80513729 0.80513729 0.79982285\n",
            " 0.78919398 0.80070859 0.79362267 0.80336581]\n",
            "GaussianNB : Average recall_weighted 0.7950771690822014\n",
            "***********************************************************************************\n",
            "GaussianNB : scoresdt Precision : [0.84122797 0.82542429 0.82967831 0.84466512 0.84713858 0.8303209\n",
            " 0.83491536 0.83853925 0.83858723 0.83901109]\n",
            "GaussianNB : Average precision_weighted 0.8369508105114661\n",
            "***********************************************************************************\n",
            "**************Classifiers Done*************\n",
            "\n",
            "***********New Model************** : LogisticRegression :\n",
            "***********************************************************************************\n",
            "***********************************************************************************\n",
            "LogisticRegression :  Training Accuracy 0.8684024087849805\n",
            "LogisticRegression :  Testing Accuracy 0.8618980169971672\n",
            "LogisticRegression :  Training Report          \n",
            "              precision    recall  f1-score   support\n",
            "\n",
            "         0.0       0.90      0.93      0.91      8621\n",
            "         1.0       0.74      0.68      0.71      2671\n",
            "\n",
            "    accuracy                           0.87     11292\n",
            "   macro avg       0.82      0.80      0.81     11292\n",
            "weighted avg       0.87      0.87      0.87     11292\n",
            "\n",
            "***********************************************************************************\n",
            "LogisticRegression :  Testing Report           \n",
            "              precision    recall  f1-score   support\n",
            "\n",
            "         0.0       0.90      0.92      0.91      2140\n",
            "         1.0       0.74      0.67      0.70       684\n",
            "\n",
            "    accuracy                           0.86      2824\n",
            "   macro avg       0.82      0.80      0.81      2824\n",
            "weighted avg       0.86      0.86      0.86      2824\n",
            "\n",
            "***********************************************************************************\n",
            "LogisticRegression :  Testing Confusion Matrix            \n",
            "[[1978  162]\n",
            " [ 228  456]]\n",
            "***********************************************************************************\n",
            "LogisticRegression : scoresdt F1 : [0.69387755 0.70891089 0.70610687 0.70542636 0.75521822 0.67992048\n",
            " 0.69498069 0.7030303  0.72967864 0.73398058]\n",
            "LogisticRegression : Average f1 0.7111130581860304\n",
            "***********************************************************************************\n",
            "LogisticRegression : scoresdt_rec : [0.86725664 0.8699115  0.8635961  0.86536758 0.88573959 0.85739593\n",
            " 0.86005314 0.86979628 0.87333924 0.87865368]\n",
            "LogisticRegression : Average recall_weighted 0.8691109682779812\n",
            "***********************************************************************************\n",
            "LogisticRegression : scoresdt Precision : [0.86216657 0.86593194 0.86194757 0.86261759 0.8847701  0.85278516\n",
            " 0.85744865 0.86518041 0.8725509  0.87613996]\n",
            "LogisticRegression : Average precision_weighted 0.866153886558499\n",
            "***********************************************************************************\n",
            "**************Classifiers Done*************\n",
            "\n",
            "***********New Model************** : XGBClassifier :\n",
            "***********************************************************************************\n",
            "***********************************************************************************\n",
            "XGBClassifier :  Training Accuracy 0.9663478568898335\n",
            "XGBClassifier :  Testing Accuracy 0.9475920679886686\n",
            "XGBClassifier :  Training Report          \n",
            "              precision    recall  f1-score   support\n",
            "\n",
            "         0.0       0.98      0.98      0.98      8621\n",
            "         1.0       0.93      0.93      0.93      2671\n",
            "\n",
            "    accuracy                           0.97     11292\n",
            "   macro avg       0.95      0.95      0.95     11292\n",
            "weighted avg       0.97      0.97      0.97     11292\n",
            "\n",
            "***********************************************************************************\n",
            "XGBClassifier :  Testing Report           \n",
            "              precision    recall  f1-score   support\n",
            "\n",
            "         0.0       0.96      0.97      0.97      2140\n",
            "         1.0       0.90      0.89      0.89       684\n",
            "\n",
            "    accuracy                           0.95      2824\n",
            "   macro avg       0.93      0.93      0.93      2824\n",
            "weighted avg       0.95      0.95      0.95      2824\n",
            "\n",
            "***********************************************************************************\n",
            "XGBClassifier :  Testing Confusion Matrix            \n",
            "[[2069   71]\n",
            " [  77  607]]\n",
            "***********************************************************************************\n",
            "XGBClassifier : scoresdt F1 : [0.90093458 0.89338235 0.88930582 0.86679174 0.9141791  0.88846881\n",
            " 0.89345794 0.87850467 0.89943074 0.8702011 ]\n",
            "XGBClassifier : Average f1 0.8894656860659893\n",
            "***********************************************************************************\n",
            "XGBClassifier : scoresdt_rec : [0.95309735 0.94867257 0.94774136 0.93711249 0.95925598 0.94774136\n",
            " 0.94951284 0.94242693 0.9530558  0.93711249]\n",
            "XGBClassifier : Average recall_weighted 0.9475729167483167\n",
            "***********************************************************************************\n",
            "XGBClassifier : scoresdt Precision : [0.95315981 0.9493118  0.94767559 0.93703289 0.95936871 0.94744843\n",
            " 0.94957988 0.94250307 0.95272137 0.93844637]\n",
            "XGBClassifier : Average precision_weighted 0.9477247920557227\n",
            "***********************************************************************************\n",
            "**************Classifiers Done*************\n",
            "\n",
            "***********New Model************** : GradientBoostingClassifier :\n",
            "***********************************************************************************\n",
            "***********************************************************************************\n",
            "GradientBoostingClassifier :  Training Accuracy 0.942968473255402\n",
            "GradientBoostingClassifier :  Testing Accuracy 0.9390934844192634\n",
            "GradientBoostingClassifier :  Training Report          \n",
            "              precision    recall  f1-score   support\n",
            "\n",
            "         0.0       0.97      0.96      0.96      8621\n",
            "         1.0       0.87      0.89      0.88      2671\n",
            "\n",
            "    accuracy                           0.94     11292\n",
            "   macro avg       0.92      0.93      0.92     11292\n",
            "weighted avg       0.94      0.94      0.94     11292\n",
            "\n",
            "***********************************************************************************\n",
            "GradientBoostingClassifier :  Testing Report           \n",
            "              precision    recall  f1-score   support\n",
            "\n",
            "         0.0       0.96      0.96      0.96      2140\n",
            "         1.0       0.87      0.88      0.87       684\n",
            "\n",
            "    accuracy                           0.94      2824\n",
            "   macro avg       0.92      0.92      0.92      2824\n",
            "weighted avg       0.94      0.94      0.94      2824\n",
            "\n",
            "***********************************************************************************\n",
            "GradientBoostingClassifier :  Testing Confusion Matrix            \n",
            "[[2051   89]\n",
            " [  83  601]]\n",
            "***********************************************************************************\n",
            "GradientBoostingClassifier : scoresdt F1 : [0.88117002 0.86346863 0.86075949 0.86388385 0.88530466 0.86956522\n",
            " 0.86751361 0.85823755 0.88389513 0.85661765]\n",
            "GradientBoostingClassifier : Average f1 0.8690415808731121\n",
            "***********************************************************************************\n",
            "GradientBoostingClassifier : scoresdt_rec : [0.94247788 0.93451327 0.93179805 0.93356953 0.94331267 0.93888397\n",
            " 0.93534101 0.93445527 0.94508415 0.93091231]\n",
            "GradientBoostingClassifier : Average recall_weighted 0.9370348103498278\n",
            "***********************************************************************************\n",
            "GradientBoostingClassifier : scoresdt Precision : [0.94372838 0.93507752 0.93404357 0.93549166 0.94601955 0.93853206\n",
            " 0.93722794 0.93368606 0.94508415 0.9319658 ]\n",
            "GradientBoostingClassifier : Average precision_weighted 0.9380856691627921\n",
            "***********************************************************************************\n",
            "**************Classifiers Done*************\n"
          ]
        }
      ],
      "source": [
        "#Classifiers\n",
        "# Training And Testing Set Data Frame\n",
        "trainSet = Xtrain\n",
        "testSet = Xtest\n",
        "trainSet['status'] = ytrain\n",
        "testSet['status'] = ytest\n",
        "target = 'status'\n",
        "id = 'employee_id'\n",
        "predictors = [x for x in trainSet.columns if x not in [target,id] ]\n",
        "\n",
        "# Instantiating various classifiers\n",
        "clfs = [KNeighborsClassifier(),\n",
        "        RandomForestClassifier(random_state=0, class_weight='balanced'),\n",
        "        GaussianNB(),\n",
        "        LogisticRegression(random_state=0),\n",
        "        XGBClassifier(),\n",
        "        GradientBoostingClassifier()]\n",
        "\n",
        "for clf in clfs:\n",
        "  # Extracting model name\n",
        "  model_name = type(clf).__name__\n",
        "\n",
        "  # Fit the model on train data\n",
        "  clf.fit(trainSet[predictors], trainSet[target])\\\n",
        "  \n",
        "  modelKPI(clf,trainSet,testSet,predictors,target)"
      ]
    },
    {
      "cell_type": "markdown",
      "id": "60e01a76-cd9f-4312-96d3-93e3824fdb4f",
      "metadata": {
        "id": "60e01a76-cd9f-4312-96d3-93e3824fdb4f"
      },
      "source": [
        "---\n",
        "<a name = Section9></a>\n",
        "# 9. Model Evaluation & Model Tuning\n"
      ]
    },
    {
      "cell_type": "markdown",
      "id": "3094a976-d711-4cde-b891-d424d004d3ca",
      "metadata": {
        "id": "3094a976-d711-4cde-b891-d424d004d3ca"
      },
      "source": [
        "### First Level Model Evaluation and Selection based on default parameters passed to Models\n",
        "\n",
        "| Index| Model | Accuracy score | Precision | Recall | f1-score | Avg f1-Score | recall_weighted |  precision_weighted|\n",
        "| - | - | - | - | - | - | - | - | - |\n",
        "| 1. | KNeighborsClassifier  | 0.93024 | 0.86 | 0.85 | 0.86 | 0.84972 | 0.92862 | 0.92896 | \n",
        "| 2. | Random Forest Classifier | 0.94511 | 0.88  | 0.89  | 0.89  | 0.87590 | 0.94075 | 0.94124 |\n",
        "| 3. | GaussianNB | 0.7956 | 0.56 |  0.78 |  0.65 | 0.64829 | 0.7950 | 0.8369 |\n",
        "| 4. | LogisticRegression | 0.86189 | 0.74  | 0.67 | 0.70 | 0.7111 | 0.8691 | 0.8661 |\n",
        "| 5. | XGBClassifier | 0.9475 | 0.90 | 0.89  | 0.89  | 0.8894 | 0.9475 | 0.9477 |\n",
        "| 6. | GradientBoostingClassifier| 0.9390 | 0.87 | 0.88 | 0.87 | 0.8690 |0.9370 | 0.9380 |"
      ]
    },
    {
      "cell_type": "markdown",
      "id": "f5f06917-4503-4d78-9655-2875c4313abc",
      "metadata": {
        "id": "f5f06917-4503-4d78-9655-2875c4313abc"
      },
      "source": [
        "### Based on the Model KPIs : the selected Model is XGBoost"
      ]
    },
    {
      "cell_type": "markdown",
      "id": "26756096-7d61-4700-9a7b-8b8c8d33df2b",
      "metadata": {
        "id": "26756096-7d61-4700-9a7b-8b8c8d33df2b"
      },
      "source": [
        "## Hypertuning the Selected Model : XGBoost\n",
        "### Parameters to tune:\n",
        "- Step 1: Fix learning rate and number of estimators for tuning tree-based parameters\n",
        "- Step 2 : Tune max_depth & min_child_weight\n",
        "- Step 3 :Tune gama\n",
        "- Step 4 : subsample & colsample_bytree\n",
        "- Step 5: Tuning Regularization Parameters"
      ]
    },
    {
      "cell_type": "code",
      "execution_count": null,
      "id": "8f1f994a-c5f5-402e-b75c-cbbfac53b9f2",
      "metadata": {
        "id": "8f1f994a-c5f5-402e-b75c-cbbfac53b9f2"
      },
      "outputs": [],
      "source": [
        "#Step 1: Fix learning rate and number of estimators for tuning tree-based parameters"
      ]
    },
    {
      "cell_type": "code",
      "execution_count": null,
      "id": "c63a1874-9e9f-46a2-8bf1-6cbf7279a88a",
      "metadata": {
        "id": "c63a1874-9e9f-46a2-8bf1-6cbf7279a88a"
      },
      "outputs": [],
      "source": [
        "#Function to give the tunes parameter based on common CV and other \n",
        "def modelfit(alg, dtrain,dtest, predictors,target,useTrainCV=True, cv_folds=5, early_stopping_rounds=50):\n",
        "    \n",
        "    if useTrainCV:\n",
        "        xgb_param = alg.get_xgb_params()\n",
        "        xgtrain = xgb.DMatrix(dtrain[predictors].values, label=dtrain[target].values)\n",
        "        cvresult = xgb.cv(xgb_param, xgtrain, num_boost_round=alg.get_params()['n_estimators'], nfold=cv_folds,\n",
        "            metrics='auc', early_stopping_rounds=early_stopping_rounds)\n",
        "        alg.set_params(n_estimators=cvresult.shape[0])\n",
        "        \n",
        "    #Fit the algorithm on the data\n",
        "    alg.fit(dtrain[predictors], dtrain[target],eval_metric='auc')\n",
        "        \n",
        "    #Predict training set:\n",
        "    dtrain_predictions = alg.predict(dtrain[predictors])\n",
        "    dtrain_predprob = alg.predict_proba(dtrain[predictors])[:,1]\n",
        "    \n",
        "    dtest_predictions = alg.predict(dtest[predictors])\n",
        "    dtest_predprob = alg.predict_proba(dtest[predictors])[:,1]\n",
        "        \n",
        "    #Print model report:\n",
        "    print (\"\\nModel Training Report \")\n",
        "    print (\"Accuracy : %.4g\" % accuracy_score(dtrain[target].values, dtrain_predictions))\n",
        "    print (\"AUC Score (Train): %f\" % roc_auc_score(dtrain[target], dtrain_predprob))\n",
        "    \n",
        "    print (\"\\nModel Test Report \")\n",
        "    print (\"Accuracy : %.4g\" % accuracy_score(dtest[target].values, dtest_predictions))\n",
        "    print (\"AUC Score (Test): %f\" % roc_auc_score(dtest[target], dtest_predprob))\n",
        "    \n",
        "    \n",
        "    feat_imp = pd.Series(alg.get_booster().get_fscore()).sort_values(ascending=False)\n",
        "    feat_imp.plot(kind='bar', title='Feature Importances')\n",
        "    plt.ylabel('Feature Importance Score')\n",
        "    \n",
        "    modelKPI(alg,dtrain,dtest,predictors,target)"
      ]
    },
    {
      "cell_type": "code",
      "execution_count": null,
      "id": "470a64d6-13be-4545-b880-5be6e7804262",
      "metadata": {
        "id": "470a64d6-13be-4545-b880-5be6e7804262",
        "outputId": "1cba1e94-a34f-48ee-e923-42feee29e9fb"
      },
      "outputs": [
        {
          "name": "stdout",
          "output_type": "stream",
          "text": [
            "\n",
            "Model Training Report \n",
            "Accuracy : 0.9656\n",
            "AUC Score (Train): 0.992131\n",
            "\n",
            "Model Test Report \n",
            "Accuracy : 0.9483\n",
            "AUC Score (Test): 0.980201\n",
            "***********************************************************************************\n",
            "Parameters currently in use:\n",
            "\n",
            "{'objective': 'binary:logistic', 'use_label_encoder': True, 'base_score': 0.5, 'booster': 'gbtree', 'colsample_bylevel': 1, 'colsample_bynode': 1, 'colsample_bytree': 0.8, 'enable_categorical': False, 'gamma': 0, 'gpu_id': -1, 'importance_type': None, 'interaction_constraints': '', 'learning_rate': 0.15, 'max_delta_step': 0, 'max_depth': 10, 'min_child_weight': 1, 'missing': nan, 'monotone_constraints': '()', 'n_estimators': 59, 'n_jobs': 4, 'num_parallel_tree': 1, 'predictor': 'auto', 'random_state': 27, 'reg_alpha': 0, 'reg_lambda': 1, 'scale_pos_weight': 1, 'subsample': 0.8, 'tree_method': 'exact', 'validate_parameters': 1, 'verbosity': None, 'nthread': 4, 'seed': 27}\n",
            "***********************************************************************************\n"
          ]
        }
      ],
      "source": [
        "#Choose all predictors except target & IDcols, tru different values and conclude\n",
        "trainSet = Xtrain\n",
        "testSet = Xtest\n",
        "trainSet['status'] = ytrain\n",
        "testSet['status'] = ytest\n",
        "target = 'status'\n",
        "id = 'employee_id'\n",
        "predictors = [x for x in trainSet.columns if x not in [target,id] ]\n",
        "\n",
        "xgb1 = XGBClassifier(\n",
        " learning_rate =0.15,\n",
        " n_estimators=600,\n",
        " max_depth=10,\n",
        " min_child_weight=1,\n",
        " gamma=0,\n",
        " subsample=0.8,\n",
        " colsample_bytree=0.8,\n",
        " objective= 'binary:logistic',\n",
        " nthread=4,\n",
        " scale_pos_weight=1,\n",
        " seed=27)\n",
        "modelfit(xgb1, trainSet,testSet,predictors,target)"
      ]
    },
    {
      "cell_type": "code",
      "execution_count": null,
      "id": "63d4061e-415e-4dda-9dab-45e6a44f32e7",
      "metadata": {
        "id": "63d4061e-415e-4dda-9dab-45e6a44f32e7",
        "outputId": "d1a6f57d-cc27-4f29-e1bc-f63e1ca854ab"
      },
      "outputs": [
        {
          "data": {
            "text/plain": [
              "GridSearchCV(cv=5,\n",
              "             estimator=XGBClassifier(base_score=None, booster=None,\n",
              "                                     colsample_bylevel=None,\n",
              "                                     colsample_bynode=None,\n",
              "                                     colsample_bytree=0.8,\n",
              "                                     enable_categorical=False, gamma=0,\n",
              "                                     gpu_id=None, importance_type=None,\n",
              "                                     interaction_constraints=None,\n",
              "                                     learning_rate=0.15, max_delta_step=None,\n",
              "                                     max_depth=5, min_child_weight=1,\n",
              "                                     missing=nan, monotone_constraints=None,\n",
              "                                     n_estimators=600, n_jobs=None, nthread=4,\n",
              "                                     num_parallel_tree=None, predictor=None,\n",
              "                                     random_state=None, reg_alpha=None,\n",
              "                                     reg_lambda=None, scale_pos_weight=1,\n",
              "                                     seed=27, subsample=0.8, tree_method=None,\n",
              "                                     validate_parameters=None, verbosity=None),\n",
              "             n_jobs=4,\n",
              "             param_grid={'max_depth': range(2, 10),\n",
              "                         'min_child_weight': range(1, 10)},\n",
              "             scoring='roc_auc')"
            ]
          },
          "execution_count": 164,
          "metadata": {},
          "output_type": "execute_result"
        }
      ],
      "source": [
        "#Step 2 : Tune max_depth & min_child_weight\n",
        "param_test1 = {\n",
        " 'max_depth':range(2,10,1),\n",
        " 'min_child_weight':range(1,10,1)\n",
        "}\n",
        "gsearch1 = GridSearchCV(estimator = XGBClassifier( learning_rate =0.15, n_estimators=600, max_depth=5,\n",
        " min_child_weight=1, gamma=0, subsample=0.8, colsample_bytree=0.8,\n",
        " objective= 'binary:logistic', nthread=4, scale_pos_weight=1, seed=27), \n",
        " param_grid = param_test1, scoring='roc_auc',n_jobs=4, cv=5)\n",
        "gsearch1.fit(trainSet[predictors],trainSet[target])\n"
      ]
    },
    {
      "cell_type": "code",
      "execution_count": null,
      "id": "c45bc0b1-0a1a-4baf-ba68-7a80b757e955",
      "metadata": {
        "id": "c45bc0b1-0a1a-4baf-ba68-7a80b757e955"
      },
      "outputs": [],
      "source": [
        "print(gsearch1.best_params_)\n",
        "print(gsearch1.best_score_)"
      ]
    },
    {
      "cell_type": "code",
      "execution_count": null,
      "id": "009e452e-29a8-48a0-8ee8-528e4d00f07f",
      "metadata": {
        "id": "009e452e-29a8-48a0-8ee8-528e4d00f07f"
      },
      "outputs": [],
      "source": [
        "param_test4 = {\n",
        " 'subsample':[i/10.0 for i in range(6,10)],\n",
        " 'colsample_bytree':[i/10.0 for i in range(6,10)]\n",
        "}\n",
        "gsearch4 = GridSearchCV(estimator = XGBClassifier( learning_rate =0.15, n_estimators=600, max_depth=10,\n",
        " min_child_weight=1, gamma=0, subsample=0.8, colsample_bytree=0.8,\n",
        " objective= 'binary:logistic', nthread=4, scale_pos_weight=1,seed=27), \n",
        " param_grid = param_test4, scoring='roc_auc',n_jobs=4, cv=5)\n",
        "gsearch4.fit(trainSet[predictors],trainSet[target])\n",
        "gsearch4.best_params_, gsearch4.best_score_"
      ]
    },
    {
      "cell_type": "code",
      "execution_count": null,
      "id": "278f6455-bded-4bbe-b806-b0b62b91c3e4",
      "metadata": {
        "id": "278f6455-bded-4bbe-b806-b0b62b91c3e4"
      },
      "outputs": [],
      "source": [
        "#Step 5: Tuning Regularization Parameters\n",
        "param_test6 = {\n",
        " 'reg_alpha':[1e-5, 1e-2, 0.1, 1, 100]\n",
        "}\n",
        "\n",
        "gsearch6 = GridSearchCV(estimator = XGBClassifier( learning_rate =0.15, n_estimators=600, max_depth=10,\n",
        " min_child_weight=1, gamma=0, subsample=0.8, colsample_bytree=0.8,\n",
        " objective= 'binary:logistic', nthread=4, scale_pos_weight=1,seed=27), \n",
        " param_grid = param_test6, scoring='roc_auc',n_jobs=4, cv=5)\n",
        "gsearch6.fit(trainSet[predictors],trainSet[target])\n",
        "gsearch6.best_params_, gsearch6.best_score_"
      ]
    },
    {
      "cell_type": "markdown",
      "id": "b5d176f5-c80b-447a-8bed-fc147e8491ac",
      "metadata": {
        "id": "b5d176f5-c80b-447a-8bed-fc147e8491ac"
      },
      "source": [
        "---\n",
        "<a name = Section10></a>\n",
        "# 10. Finalize the Model\n"
      ]
    },
    {
      "cell_type": "markdown",
      "id": "1f339291-f713-4347-9967-7048b95aa33b",
      "metadata": {
        "id": "1f339291-f713-4347-9967-7048b95aa33b"
      },
      "source": [
        "## Apply the full tuning paramneters : XGBoost\n",
        "### Finalize the XGBoost Model"
      ]
    },
    {
      "cell_type": "code",
      "execution_count": null,
      "id": "96f787fe-fb5a-4e18-bb0d-2df8ef853460",
      "metadata": {
        "id": "96f787fe-fb5a-4e18-bb0d-2df8ef853460",
        "outputId": "be0fa364-da83-4c74-b83d-2d8d23de4c91"
      },
      "outputs": [
        {
          "name": "stdout",
          "output_type": "stream",
          "text": [
            "\n",
            "Model Training Report \n",
            "Accuracy : 0.9528\n",
            "AUC Score (Train): 0.979364\n",
            "\n",
            "Model Test Report \n",
            "Accuracy : 0.9518\n",
            "AUC Score (Test): 0.975297\n",
            "\n",
            "***********New Model************** : XGBClassifier :\n",
            "***********************************************************************************\n",
            "***********************************************************************************\n",
            "XGBClassifier :  Training Accuracy 0.9527984413744244\n",
            "XGBClassifier :  Testing Accuracy 0.9518413597733711\n",
            "XGBClassifier :  Training Report          \n",
            "              precision    recall  f1-score   support\n",
            "\n",
            "         0.0       0.97      0.97      0.97      8621\n",
            "         1.0       0.90      0.90      0.90      2671\n",
            "\n",
            "    accuracy                           0.95     11292\n",
            "   macro avg       0.93      0.94      0.93     11292\n",
            "weighted avg       0.95      0.95      0.95     11292\n",
            "\n",
            "***********************************************************************************\n",
            "XGBClassifier :  Testing Report           \n",
            "              precision    recall  f1-score   support\n",
            "\n",
            "         0.0       0.97      0.97      0.97      2140\n",
            "         1.0       0.90      0.90      0.90       684\n",
            "\n",
            "    accuracy                           0.95      2824\n",
            "   macro avg       0.94      0.93      0.93      2824\n",
            "weighted avg       0.95      0.95      0.95      2824\n",
            "\n",
            "***********************************************************************************\n",
            "XGBClassifier :  Testing Confusion Matrix            \n",
            "[[2075   65]\n",
            " [  71  613]]\n",
            "***********************************************************************************\n",
            "XGBClassifier : scoresdt F1 : [0.89962825 0.88518519 0.88807339 0.8880597  0.9070632  0.88014981\n",
            " 0.89981096 0.88380952 0.90322581 0.87569573]\n",
            "XGBClassifier : Average f1 0.8910701570904246\n",
            "***********************************************************************************\n",
            "XGBClassifier : scoresdt_rec : [0.95221239 0.94513274 0.94596988 0.94685562 0.95571302 0.94331267\n",
            " 0.9530558  0.94596988 0.95482728 0.94065545]\n",
            "XGBClassifier : Average recall_weighted 0.9483704743017942\n",
            "***********************************************************************************\n",
            "XGBClassifier : scoresdt Precision : [0.95248817 0.94544256 0.94694536 0.94700004 0.95597103 0.94331267\n",
            " 0.95279825 0.94548687 0.95450956 0.9410814 ]\n",
            "XGBClassifier : Average precision_weighted 0.9485035912831945\n",
            "***********************************************************************************\n",
            "**************Classifiers Done*************\n"
          ]
        },
        {
          "data": {
            "image/png": "[encoded data removed]",
            "text/plain": [
              "<Figure size 600x400 with 1 Axes>"
            ]
          },
          "metadata": {},
          "output_type": "display_data"
        }
      ],
      "source": [
        "#Parameters selected with grid CV tuning Tuning:\n",
        "#learning_rate =0.15\n",
        "#n_estimators=600\n",
        "#max_depth=3,\n",
        "#min_child_weight=1\n",
        "#gamma=0.9\n",
        "#reg_alpha = 1\n",
        "\n",
        "trainSet = Xtrain\n",
        "testSet = Xtest\n",
        "trainSet['status'] = ytrain\n",
        "testSet['status'] = ytest\n",
        "target = 'status'\n",
        "id = 'employee_id'\n",
        "predictors = [x for x in trainSet.columns if x not in [target,id] ]\n",
        "\n",
        "xgb4 = XGBClassifier(\n",
        " learning_rate =0.15,\n",
        " n_estimators=600,\n",
        " max_depth=3,\n",
        " min_child_weight=1,\n",
        " gamma=0.9,\n",
        " subsample=0.8,\n",
        " colsample_bytree=0.6,\n",
        " objective= 'binary:logistic',\n",
        " nthread=4,\n",
        " scale_pos_weight=1,\n",
        " seed=27,\n",
        " reg_alpha = 1)\n",
        "modelfit(xgb4, trainSet,testSet,predictors,target)"
      ]
    },
    {
      "cell_type": "markdown",
      "id": "d65f1cd2-7f68-4b07-a216-0bb00e6d2932",
      "metadata": {
        "id": "d65f1cd2-7f68-4b07-a216-0bb00e6d2932"
      },
      "source": [
        "---\n",
        "<a name = Section10></a>\n",
        "# 10. Predict the Unseen Future\n"
      ]
    },
    {
      "cell_type": "code",
      "execution_count": null,
      "id": "258cab74-3211-4193-ab4d-332a6cddd72d",
      "metadata": {
        "id": "258cab74-3211-4193-ab4d-332a6cddd72d"
      },
      "outputs": [],
      "source": [
        "#Unseen Data Prediction\n",
        "X_unseen_data = pd.read_csv(\"GCD_Capstone_Project_unseen_data.csv\")"
      ]
    },
    {
      "cell_type": "code",
      "execution_count": null,
      "id": "4cd81885-393c-4822-bfae-bd4241f82b51",
      "metadata": {
        "id": "4cd81885-393c-4822-bfae-bd4241f82b51"
      },
      "outputs": [],
      "source": [
        "\n",
        "X_unseen_data['filed_complaint'].fillna(value=0.0, inplace=True)\n",
        "X_unseen_data['recently_promoted'].fillna(value=0.0, inplace=True)\n",
        "X_unseen_data['filed_complaint'] = df_emp_status['filed_complaint'].astype(str)\n",
        "X_unseen_data['recently_promoted'] = df_emp_status['recently_promoted'].astype(str)\n",
        "#Replace\n",
        "X_unseen_data.loc[df_emp_status[\"department\"] == \"-IT\", \"department\"] = 'D00-IT'\n",
        "# Treat missing values for Cat data\n",
        "X_unseen_data['department'] = df_emp_status['department'].fillna(value=df_emp_status['department'].mode()[0])"
      ]
    },
    {
      "cell_type": "code",
      "execution_count": null,
      "id": "9beaf3df-5466-4541-a8e8-837a6b1b7d76",
      "metadata": {
        "id": "9beaf3df-5466-4541-a8e8-837a6b1b7d76"
      },
      "outputs": [],
      "source": [
        "X_unseen_data['satisfaction'].fillna(value=df_emp_status['satisfaction'].median(), inplace=True)\n",
        "X_unseen_data['tenure'].fillna(value=df_emp_status['tenure'].median(), inplace=True)\n",
        "X_unseen_data['last_evaluation'].fillna(value=df_emp_status['last_evaluation'].median(), inplace=True)"
      ]
    },
    {
      "cell_type": "code",
      "execution_count": null,
      "id": "bbc0165e-fc88-4971-a6f8-f9b7046133fc",
      "metadata": {
        "id": "bbc0165e-fc88-4971-a6f8-f9b7046133fc"
      },
      "outputs": [],
      "source": [
        "X_unseen_merged = pd.merge(X_unseen_data,df_emp_details,on='employee_id')\n",
        "X_unseen_merged_woe = clf_woe.transform(X_unseen_merged)"
      ]
    },
    {
      "cell_type": "code",
      "execution_count": null,
      "id": "d6ec28e5-8e5b-4f33-b28b-f6ba6f85f2af",
      "metadata": {
        "id": "d6ec28e5-8e5b-4f33-b28b-f6ba6f85f2af"
      },
      "outputs": [],
      "source": [
        "target = 'status'\n",
        "id = 'employee_id'\n",
        "predictors = [x for x in Unseen_Data.columns if x not in [target,id] ]\n",
        "\n",
        "dtrain_predprob = xgb4.predict_proba(X_unseen_merged_woe[predictors])[:,1]"
      ]
    },
    {
      "cell_type": "code",
      "execution_count": null,
      "id": "5be2d7bc-3681-48ac-b023-39d22e25cf38",
      "metadata": {
        "id": "5be2d7bc-3681-48ac-b023-39d22e25cf38",
        "outputId": "2295465b-673e-4a27-9f85-ae3789d2d8e9"
      },
      "outputs": [
        {
          "data": {
            "text/plain": [
              "array([9.2869741e-01, 1.8261274e-03, 5.7964343e-01, 3.8272224e-03,\n",
              "       5.9174150e-02, 3.8862168e-03, 1.2766325e-02, 2.6375072e-02,\n",
              "       8.6521255e-03, 3.8942881e-03, 1.1670967e-02, 9.7172540e-01,\n",
              "       4.0041146e-01, 1.1975928e-02, 5.4017813e-03, 3.7595511e-03,\n",
              "       9.2869741e-01, 6.1499192e-03, 7.6757330e-03, 6.0762554e-02,\n",
              "       7.3277205e-01, 9.0865248e-01, 7.0917994e-02, 2.7148273e-02,\n",
              "       6.1354530e-01, 4.0412834e-03, 1.8922463e-01, 9.8619715e-04,\n",
              "       9.9973148e-01, 7.9182677e-02, 3.9321152e-03, 5.7693995e-03,\n",
              "       7.2533055e-04, 6.9154147e-03, 4.5825327e-03, 5.2095409e-03,\n",
              "       2.0357192e-02, 9.5331472e-01, 3.1310904e-03, 1.1727589e-02,\n",
              "       9.5331472e-01, 5.3844398e-01, 6.5879524e-03, 2.0281940e-03,\n",
              "       4.1325591e-03, 4.4708434e-02, 8.6879182e-01, 1.8040171e-03,\n",
              "       6.7417985e-03, 3.2875621e-01, 2.3417650e-03, 2.6261541e-03,\n",
              "       3.4141121e-03, 4.4925669e-03, 1.4350467e-02, 2.9024885e-03,\n",
              "       3.6620765e-03, 6.3419440e-03, 1.3528230e-03, 9.9976438e-01,\n",
              "       3.1842072e-02, 8.9210969e-01, 5.3372484e-01, 4.5988047e-03,\n",
              "       9.1805595e-01, 9.8414338e-01, 4.4616419e-03, 9.1584998e-01,\n",
              "       2.0129757e-03, 8.8579923e-01, 9.8630056e-02, 6.6281867e-04,\n",
              "       9.5318630e-03, 3.2847587e-02, 6.1354530e-01, 7.5527385e-02,\n",
              "       1.0393624e-02, 2.8071536e-03, 9.0423964e-02, 3.0897905e-03,\n",
              "       1.7614767e-01, 5.5095536e-01, 3.7311170e-02, 8.8758874e-01,\n",
              "       1.4012627e-03, 2.5379404e-03, 1.9616485e-03, 4.1211983e-03,\n",
              "       4.3881241e-02, 3.8253885e-02, 8.0566555e-01, 7.2819698e-01,\n",
              "       5.6549914e-02, 8.6549354e-01, 5.5210274e-01, 1.5598900e-02,\n",
              "       6.0141021e-03, 4.3007252e-03, 9.7721675e-03, 4.8383358e-01],\n",
              "      dtype=float32)"
            ]
          },
          "execution_count": 247,
          "metadata": {},
          "output_type": "execute_result"
        }
      ],
      "source": [
        "dtrain_predprob"
      ]
    },
    {
      "cell_type": "code",
      "execution_count": null,
      "id": "ef6d896e-4dfe-4850-88e3-ff9a19745c3a",
      "metadata": {
        "id": "ef6d896e-4dfe-4850-88e3-ff9a19745c3a"
      },
      "outputs": [],
      "source": [
        "df_final_Pred['Attrition_Prob'] = dtrain_predprob\n",
        "df_final_Pred['employee_id'] = X_unseen_data['employee_id']"
      ]
    },
    {
      "cell_type": "code",
      "execution_count": null,
      "id": "eb21eb5a-57c0-43e0-ba85-72779105ae18",
      "metadata": {
        "id": "eb21eb5a-57c0-43e0-ba85-72779105ae18",
        "outputId": "f2fd8b92-d398-45f0-dac0-e1bd36fd33e7"
      },
      "outputs": [
        {
          "data": {
            "text/html": [
              "<div>\n",
              "<style scoped>\n",
              "    .dataframe tbody tr th:only-of-type {\n",
              "        vertical-align: middle;\n",
              "    }\n",
              "\n",
              "    .dataframe tbody tr th {\n",
              "        vertical-align: top;\n",
              "    }\n",
              "\n",
              "    .dataframe thead th {\n",
              "        text-align: right;\n",
              "    }\n",
              "</style>\n",
              "<table border=\"1\" class=\"dataframe\">\n",
              "  <thead>\n",
              "    <tr style=\"text-align: right;\">\n",
              "      <th></th>\n",
              "      <th>Attrition_Prob</th>\n",
              "    </tr>\n",
              "    <tr>\n",
              "      <th>employee_id</th>\n",
              "      <th></th>\n",
              "    </tr>\n",
              "  </thead>\n",
              "  <tbody>\n",
              "    <tr>\n",
              "      <th>119045</th>\n",
              "      <td>0.928697</td>\n",
              "    </tr>\n",
              "    <tr>\n",
              "      <th>112223</th>\n",
              "      <td>0.001826</td>\n",
              "    </tr>\n",
              "    <tr>\n",
              "      <th>103924</th>\n",
              "      <td>0.579643</td>\n",
              "    </tr>\n",
              "    <tr>\n",
              "      <th>105922</th>\n",
              "      <td>0.003827</td>\n",
              "    </tr>\n",
              "    <tr>\n",
              "      <th>103297</th>\n",
              "      <td>0.059174</td>\n",
              "    </tr>\n",
              "    <tr>\n",
              "      <th>...</th>\n",
              "      <td>...</td>\n",
              "    </tr>\n",
              "    <tr>\n",
              "      <th>116666</th>\n",
              "      <td>0.015599</td>\n",
              "    </tr>\n",
              "    <tr>\n",
              "      <th>106422</th>\n",
              "      <td>0.006014</td>\n",
              "    </tr>\n",
              "    <tr>\n",
              "      <th>107889</th>\n",
              "      <td>0.004301</td>\n",
              "    </tr>\n",
              "    <tr>\n",
              "      <th>117622</th>\n",
              "      <td>0.009772</td>\n",
              "    </tr>\n",
              "    <tr>\n",
              "      <th>108058</th>\n",
              "      <td>0.483834</td>\n",
              "    </tr>\n",
              "  </tbody>\n",
              "</table>\n",
              "<p>100 rows × 1 columns</p>\n",
              "</div>"
            ],
            "text/plain": [
              "             Attrition_Prob\n",
              "employee_id                \n",
              "119045             0.928697\n",
              "112223             0.001826\n",
              "103924             0.579643\n",
              "105922             0.003827\n",
              "103297             0.059174\n",
              "...                     ...\n",
              "116666             0.015599\n",
              "106422             0.006014\n",
              "107889             0.004301\n",
              "117622             0.009772\n",
              "108058             0.483834\n",
              "\n",
              "[100 rows x 1 columns]"
            ]
          },
          "execution_count": 259,
          "metadata": {},
          "output_type": "execute_result"
        }
      ],
      "source": [
        "df_final_Pred.set_index('employee_id')"
      ]
    },
    {
      "cell_type": "code",
      "execution_count": null,
      "id": "914a9f6f-17bb-46f4-9e6c-04c38b406969",
      "metadata": {
        "id": "914a9f6f-17bb-46f4-9e6c-04c38b406969"
      },
      "outputs": [],
      "source": [
        "df_final_Pred.to_csv('Attrition_Prediction_Result.csv', index=False )"
      ]
    }
  ],
  "metadata": {
    "kernelspec": {
      "display_name": "Python 3",
      "language": "python",
      "name": "python3"
    },
    "language_info": {
      "codemirror_mode": {
        "name": "ipython",
        "version": 3
      },
      "file_extension": ".py",
      "mimetype": "text/x-python",
      "name": "python",
      "nbconvert_exporter": "python",
      "pygments_lexer": "ipython3",
      "version": "3.8.8"
    },
    "colab": {
      "name": "1007_GCD_Captone_Project.ipynb",
      "provenance": [],
      "include_colab_link": true
    }
  },
  "nbformat": 4,
  "nbformat_minor": 5
}